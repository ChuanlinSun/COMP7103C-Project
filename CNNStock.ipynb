{
 "cells": [
  {
   "cell_type": "code",
   "execution_count": 1,
   "metadata": {
    "colab": {
     "base_uri": "https://localhost:8080/"
    },
    "id": "GNES4rhQ6pCY",
    "outputId": "9ab6f066-613e-4c2a-e8eb-e585dfcbcb07"
   },
   "outputs": [
    {
     "name": "stdout",
     "output_type": "stream",
     "text": [
      "Looking in indexes: https://pypi.org/simple, https://us-python.pkg.dev/colab-wheels/public/simple/\n",
      "Requirement already satisfied: yfinance in /usr/local/lib/python3.9/dist-packages (0.2.13)\n",
      "Requirement already satisfied: appdirs>=1.4.4 in /usr/local/lib/python3.9/dist-packages (from yfinance) (1.4.4)\n",
      "Requirement already satisfied: requests>=2.26 in /usr/local/lib/python3.9/dist-packages (from yfinance) (2.27.1)\n",
      "Requirement already satisfied: multitasking>=0.0.7 in /usr/local/lib/python3.9/dist-packages (from yfinance) (0.0.11)\n",
      "Requirement already satisfied: pytz>=2022.5 in /usr/local/lib/python3.9/dist-packages (from yfinance) (2022.7.1)\n",
      "Requirement already satisfied: numpy>=1.16.5 in /usr/local/lib/python3.9/dist-packages (from yfinance) (1.22.4)\n",
      "Requirement already satisfied: pandas>=1.3.0 in /usr/local/lib/python3.9/dist-packages (from yfinance) (1.4.4)\n",
      "Requirement already satisfied: lxml>=4.9.1 in /usr/local/lib/python3.9/dist-packages (from yfinance) (4.9.2)\n",
      "Requirement already satisfied: html5lib>=1.1 in /usr/local/lib/python3.9/dist-packages (from yfinance) (1.1)\n",
      "Requirement already satisfied: cryptography>=3.3.2 in /usr/local/lib/python3.9/dist-packages (from yfinance) (39.0.2)\n",
      "Requirement already satisfied: beautifulsoup4>=4.11.1 in /usr/local/lib/python3.9/dist-packages (from yfinance) (4.11.2)\n",
      "Requirement already satisfied: frozendict>=2.3.4 in /usr/local/lib/python3.9/dist-packages (from yfinance) (2.3.6)\n",
      "Requirement already satisfied: soupsieve>1.2 in /usr/local/lib/python3.9/dist-packages (from beautifulsoup4>=4.11.1->yfinance) (2.4)\n",
      "Requirement already satisfied: cffi>=1.12 in /usr/local/lib/python3.9/dist-packages (from cryptography>=3.3.2->yfinance) (1.15.1)\n",
      "Requirement already satisfied: six>=1.9 in /usr/local/lib/python3.9/dist-packages (from html5lib>=1.1->yfinance) (1.16.0)\n",
      "Requirement already satisfied: webencodings in /usr/local/lib/python3.9/dist-packages (from html5lib>=1.1->yfinance) (0.5.1)\n",
      "Requirement already satisfied: python-dateutil>=2.8.1 in /usr/local/lib/python3.9/dist-packages (from pandas>=1.3.0->yfinance) (2.8.2)\n",
      "Requirement already satisfied: charset-normalizer~=2.0.0 in /usr/local/lib/python3.9/dist-packages (from requests>=2.26->yfinance) (2.0.12)\n",
      "Requirement already satisfied: idna<4,>=2.5 in /usr/local/lib/python3.9/dist-packages (from requests>=2.26->yfinance) (3.4)\n",
      "Requirement already satisfied: certifi>=2017.4.17 in /usr/local/lib/python3.9/dist-packages (from requests>=2.26->yfinance) (2022.12.7)\n",
      "Requirement already satisfied: urllib3<1.27,>=1.21.1 in /usr/local/lib/python3.9/dist-packages (from requests>=2.26->yfinance) (1.26.15)\n",
      "Requirement already satisfied: pycparser in /usr/local/lib/python3.9/dist-packages (from cffi>=1.12->cryptography>=3.3.2->yfinance) (2.21)\n"
     ]
    }
   ],
   "source": [
    "pip install yfinance"
   ]
  },
  {
   "cell_type": "code",
   "execution_count": 15,
   "metadata": {
    "id": "XhnnYEiU54xY"
   },
   "outputs": [],
   "source": [
    "import yfinance as yf\n",
    "import pandas as pd\n",
    "import numpy as np\n",
    "from pandas_datareader import data\n",
    "yf.pdr_override()\n",
    "import torch\n",
    "import torch.nn as nn\n",
    "from torch.utils.data import Dataset\n",
    "from torch.utils.data import DataLoader\n",
    "import datetime\n",
    "from tqdm import tqdm\n",
    "import warnings\n",
    "warnings.filterwarnings(\"ignore\")\n",
    "import matplotlib.pyplot as plt\n"
   ]
  },
  {
   "cell_type": "code",
   "execution_count": 2,
   "metadata": {
    "id": "ug3EVE8G7hAG"
   },
   "outputs": [],
   "source": [
    "from sklearn.preprocessing import MinMaxScaler\n",
    "from PIL import Image\n",
    "from torchvision import transforms\n",
    "\n",
    "\n",
    "class PriceToImgae:\n",
    "    def __init__(self, days, width, height, price_area_height, volume_area_height, pixelwidth, pixelheight):\n",
    "        self.days = days\n",
    "        self.width = width\n",
    "        self.height = height\n",
    "        self.price_area_height = price_area_height\n",
    "        self.volume_area_height = volume_area_height\n",
    "        self.pixelwidth = pixelwidth\n",
    "        self.pixelheight = pixelheight\n",
    "        self.price_area_logical_height = int(self.price_area_height / self.pixelheight)\n",
    "        self.volume_area_logical_height = int(self.volume_area_height / self.pixelheight)\n",
    "\n",
    "    def __drawPixel(self, x, y, pixel):\n",
    "        logical_height = int(self.height / self.pixelheight)\n",
    "        for i in range(self.pixelwidth):\n",
    "            for j in range(self.pixelheight):\n",
    "                self.img.putpixel((self.pixelwidth * x + i, self.pixelheight * (logical_height - 1 - y) + j), pixel)\n",
    "\n",
    "    def __drawPrice(self, index, price, moving_average, volume, pixel):\n",
    "        open_price = price[0]\n",
    "        high_price = price[1]\n",
    "        low_price = price[2]\n",
    "        close_price = price[3]\n",
    "\n",
    "        #  draw open price\n",
    "        self.__drawPixel(3 * index, self.volume_area_logical_height + 1 + open_price, pixel)  \n",
    "        # draw the stick from high price to low price\n",
    "        for i in range(high_price - low_price + 1):\n",
    "            self.__drawPixel(3 * index + 1, self.volume_area_logical_height + 1 + low_price + i, pixel)\n",
    "        # draw close price\n",
    "        self.__drawPixel(3 * index + 2, self.volume_area_logical_height + 1 + close_price, pixel)\n",
    "        # draw volume bar\n",
    "        for i in range(volume):\n",
    "            self.__drawPixel(3 * index + 1, i, pixel)\n",
    "\n",
    "    def getImg(self, price_array, moving_average_array, volume_array, background_pixel, color_pixel):\n",
    "        self.img = Image.new(\"RGB\", (self.width, self.height), background_pixel)\n",
    "        for i in range(price_array.shape[0]):\n",
    "            self.__drawPrice(i, price_array[i], moving_average_array[i], volume_array[i], color_pixel)\n",
    "            \n",
    "            # draw MA line\n",
    "            self.__drawPixel(3 * i + 1, self.volume_area_logical_height + 1 + moving_average_array[i], color_pixel)\n",
    "            if i!=(price_array.shape[0]-1):\n",
    "                diff = moving_average_array[i+1]-moving_average_array[i]\n",
    "                if diff >= 0:\n",
    "                  self.__drawPixel(3 * i + 2, self.volume_area_logical_height + 1 + moving_average_array[i]+(diff//2), color_pixel)\n",
    "                  self.__drawPixel(3 * i + 3, self.volume_area_logical_height + 1 + moving_average_array[i]+diff-(diff//2), color_pixel)\n",
    "                else:\n",
    "                  self.__drawPixel(3 * i + 2, self.volume_area_logical_height + 1 + moving_average_array[i]-((-diff)//2), color_pixel)\n",
    "                  self.__drawPixel(3 * i + 3, self.volume_area_logical_height + 1 + moving_average_array[i+1]+((-diff)//2), color_pixel)\n",
    "                \n",
    "        return self.img\n",
    "\n",
    "def get_image_with_price(price): # price: [open, high, low, close, MA, volume]\n",
    "    \n",
    "    # size of one pixel\n",
    "    PIXEL_WIDTH = 1\n",
    "    PIXEL_HEIGHT = 1\n",
    "    # width of the graph\n",
    "    WIDTH = 3 * price.shape[0] * PIXEL_WIDTH\n",
    "    \n",
    "    days = price.shape[0]\n",
    "    if days == 20:\n",
    "      # 51 pixels for OHLC, 1 pixel empty, 12 pixels for volume\n",
    "        PRICE_LOGICAL_HEIGHT = 51\n",
    "        VOLUME_LOGICAL_HEIGHT = 12\n",
    "    elif days == 5:\n",
    "        PRICE_LOGICAL_HEIGHT = 25\n",
    "        VOLUME_LOGICAL_HEIGHT = 6  \n",
    "    PRICE_AREA_HEIGHT = PRICE_LOGICAL_HEIGHT * PIXEL_HEIGHT\n",
    "    V0LUME_AREA_HEIGHT = VOLUME_LOGICAL_HEIGHT * PIXEL_HEIGHT\n",
    "\n",
    "    # height of the graph\n",
    "    HEIGHT = PRICE_AREA_HEIGHT + V0LUME_AREA_HEIGHT + PIXEL_HEIGHT\n",
    "\n",
    "    # scale all prices and volumes \n",
    "    sclr1 = MinMaxScaler((1, PRICE_LOGICAL_HEIGHT))\n",
    "    sclr2 = MinMaxScaler((1, VOLUME_LOGICAL_HEIGHT))\n",
    "    price_minmax = sclr1.fit_transform(price[:, :-1].reshape(-1, 1)).reshape(price.shape[0], -1).astype(int)\n",
    "    volume_minmax = sclr2.fit_transform(price[:, -1].reshape(-1, 1)).reshape(price.shape[0]).astype(int)\n",
    "\n",
    "\n",
    "    # transform the price and volume data to a white and black graph\n",
    "    p2i = PriceToImgae(days, WIDTH, HEIGHT, PRICE_AREA_HEIGHT, V0LUME_AREA_HEIGHT, PIXEL_WIDTH, PIXEL_HEIGHT)\n",
    "    background_pixel = (0, 0, 0, 100)\n",
    "    color_pixel = (255, 255, 255, 100)\n",
    "    image = p2i.getImg(price_minmax[:, :-1], price_minmax[:, -1], volume_minmax, background_pixel, color_pixel)\n",
    "    # convert the RGB graph to a grey graph\n",
    "    image = image.convert('L')\n",
    "    return image"
   ]
  },
  {
   "cell_type": "code",
   "execution_count": 3,
   "metadata": {
    "id": "7FDNN0uh76Gp"
   },
   "outputs": [],
   "source": [
    "class MyDataset(Dataset):\n",
    "    \n",
    "  def __init__(self, img, label):\n",
    "    self.img = torch.Tensor(img)\n",
    "    self.label = torch.Tensor(label)\n",
    "    self.len = len(img)\n",
    "  \n",
    "  def __len__(self):\n",
    "    return self.len\n",
    "\n",
    "  def __getitem__(self, idx):\n",
    "    return self.img[idx], self.label[idx]"
   ]
  },
  {
   "cell_type": "code",
   "execution_count": 4,
   "metadata": {},
   "outputs": [],
   "source": [
    "SP500_list = ['MMM', 'AOS', 'ABT', 'ABBV', 'ACN', 'ATVI', 'ADM', 'ADBE', 'ADP',\n",
    "       'AAP', 'AES', 'AFL', 'A', 'APD', 'AKAM', 'ALK', 'ALB', 'ARE',\n",
    "       'ALGN', 'ALLE', 'LNT', 'ALL', 'GOOGL', 'GOOG', 'MO', 'AMZN',\n",
    "       'AMCR', 'AMD', 'AEE', 'AAL', 'AEP', 'AXP', 'AIG', 'AMT', 'AWK',\n",
    "       'AMP', 'ABC', 'AME', 'AMGN', 'APH', 'ADI', 'ANSS', 'AON', 'APA',\n",
    "       'AAPL', 'AMAT', 'APTV', 'ACGL', 'ANET', 'AJG', 'AIZ', 'T', 'ATO',\n",
    "       'ADSK', 'AZO', 'AVB', 'AVY', 'BKR', 'BALL', 'BAC', 'BBWI', 'BAX',\n",
    "       'BDX', 'WRB', 'BRK-B', 'BBY', 'BIO', 'TECH', 'BIIB', 'BLK', 'BK',\n",
    "       'BA', 'BKNG', 'BWA', 'BXP', 'BSX', 'BMY', 'AVGO', 'BR', 'BRO',\n",
    "       'BF-B', 'BG', 'CHRW', 'CDNS', 'CZR', 'CPT', 'CPB', 'COF', 'CAH',\n",
    "       'KMX', 'CCL', 'CARR', 'CTLT', 'CAT', 'CBOE', 'CBRE', 'CDW', 'CE',\n",
    "       'CNC', 'CNP', 'CDAY', 'CF', 'CRL', 'SCHW', 'CHTR', 'CVX', 'CMG',\n",
    "       'CB', 'CHD', 'CI', 'CINF', 'CTAS', 'CSCO', 'C', 'CFG', 'CLX',\n",
    "       'CME', 'CMS', 'KO', 'CTSH', 'CL', 'CMCSA', 'CMA', 'CAG', 'COP',\n",
    "       'ED', 'STZ', 'CEG', 'COO', 'CPRT', 'GLW', 'CTVA', 'CSGP', 'COST',\n",
    "       'CTRA', 'CCI', 'CSX', 'CMI', 'CVS', 'DHI', 'DHR', 'DRI', 'DVA',\n",
    "       'DE', 'DAL', 'XRAY', 'DVN', 'DXCM', 'FANG', 'DLR', 'DFS', 'DISH',\n",
    "       'DIS', 'DG', 'DLTR', 'D', 'DPZ', 'DOV', 'DOW', 'DTE', 'DUK', 'DD',\n",
    "       'DXC', 'EMN', 'ETN', 'EBAY', 'ECL', 'EIX', 'EW', 'EA', 'ELV',\n",
    "       'LLY', 'EMR', 'ENPH', 'ETR', 'EOG', 'EPAM', 'EQT', 'EFX', 'EQIX',\n",
    "       'EQR', 'ESS', 'EL', 'ETSY', 'RE', 'EVRG', 'ES', 'EXC', 'EXPE',\n",
    "       'EXPD', 'EXR', 'XOM', 'FFIV', 'FDS', 'FAST', 'FRT', 'FDX', 'FITB',\n",
    "       'FRC', 'FSLR', 'FE', 'FIS', 'FISV', 'FLT', 'FMC', 'F', 'FTNT',\n",
    "       'FTV', 'FOXA', 'FOX', 'BEN', 'FCX', 'GRMN', 'IT', 'GEHC', 'GEN',\n",
    "       'GNRC', 'GD', 'GE', 'GIS', 'GM', 'GPC', 'GILD', 'GL', 'GPN', 'GS',\n",
    "       'HAL', 'HIG', 'HAS', 'HCA', 'PEAK', 'HSIC', 'HSY', 'HES', 'HPE',\n",
    "       'HLT', 'HOLX', 'HD', 'HON', 'HRL', 'HST', 'HWM', 'HPQ', 'HUM',\n",
    "       'HBAN', 'HII', 'IBM', 'IEX', 'IDXX', 'ITW', 'ILMN', 'INCY', 'IR',\n",
    "       'PODD', 'INTC', 'ICE', 'IFF', 'IP', 'IPG', 'INTU', 'ISRG', 'IVZ',\n",
    "       'INVH', 'IQV', 'IRM', 'JBHT', 'JKHY', 'J', 'JNJ', 'JCI', 'JPM',\n",
    "       'JNPR', 'K', 'KDP', 'KEY', 'KEYS', 'KMB', 'KIM', 'KMI', 'KLAC',\n",
    "       'KHC', 'KR', 'LHX', 'LH', 'LRCX', 'LW', 'LVS', 'LDOS', 'LEN',\n",
    "       'LNC', 'LIN', 'LYV', 'LKQ', 'LMT', 'L', 'LOW', 'LUMN', 'LYB',\n",
    "       'MTB', 'MRO', 'MPC', 'MKTX', 'MAR', 'MMC', 'MLM', 'MAS', 'MA',\n",
    "       'MTCH', 'MKC', 'MCD', 'MCK', 'MDT', 'MRK', 'META', 'MET', 'MTD',\n",
    "       'MGM', 'MCHP', 'MU', 'MSFT', 'MAA', 'MRNA', 'MHK', 'MOH', 'TAP',\n",
    "       'MDLZ', 'MPWR', 'MNST', 'MCO', 'MS', 'MOS', 'MSI', 'MSCI', 'NDAQ',\n",
    "       'NTAP', 'NFLX', 'NWL', 'NEM', 'NWSA', 'NWS', 'NEE', 'NKE', 'NI',\n",
    "       'NDSN', 'NSC', 'NTRS', 'NOC', 'NCLH', 'NRG', 'NUE', 'NVDA', 'NVR',\n",
    "       'NXPI', 'ORLY', 'OXY', 'ODFL', 'OMC', 'ON', 'OKE', 'ORCL', 'OGN',\n",
    "       'OTIS', 'PCAR', 'PKG', 'PARA', 'PH', 'PAYX', 'PAYC', 'PYPL', 'PNR',\n",
    "       'PEP', 'PKI', 'PFE', 'PCG', 'PM', 'PSX', 'PNW', 'PXD', 'PNC',\n",
    "       'POOL', 'PPG', 'PPL', 'PFG', 'PG', 'PGR', 'PLD', 'PRU', 'PEG',\n",
    "       'PTC', 'PSA', 'PHM', 'QRVO', 'PWR', 'QCOM', 'DGX', 'RL', 'RJF',\n",
    "       'RTX', 'O', 'REG', 'REGN', 'RF', 'RSG', 'RMD', 'RHI', 'ROK', 'ROL',\n",
    "       'ROP', 'ROST', 'RCL', 'SPGI', 'CRM', 'SBAC', 'SLB', 'STX', 'SEE',\n",
    "       'SRE', 'NOW', 'SHW', 'SPG', 'SWKS', 'SJM', 'SNA', 'SEDG', 'SO',\n",
    "       'LUV', 'SWK', 'SBUX', 'STT', 'STLD', 'STE', 'SYK', 'SYF', 'SNPS',\n",
    "       'SYY', 'TMUS', 'TROW', 'TTWO', 'TPR', 'TRGP', 'TGT', 'TEL', 'TDY',\n",
    "       'TFX', 'TER', 'TSLA', 'TXN', 'TXT', 'TMO', 'TJX', 'TSCO', 'TT',\n",
    "       'TDG', 'TRV', 'TRMB', 'TFC', 'TYL', 'TSN', 'USB', 'UDR', 'ULTA',\n",
    "       'UNP', 'UAL', 'UPS', 'URI', 'UNH', 'UHS', 'VLO', 'VTR', 'VRSN',\n",
    "       'VRSK', 'VZ', 'VRTX', 'VFC', 'VTRS', 'VICI', 'V', 'VMC', 'WAB',\n",
    "       'WBA', 'WMT', 'WBD', 'WM', 'WAT', 'WEC', 'WFC', 'WELL', 'WST',\n",
    "       'WDC', 'WRK', 'WY', 'WHR', 'WMB', 'WTW', 'GWW', 'WYNN', 'XEL',\n",
    "       'XYL', 'YUM', 'ZBRA', 'ZBH', 'ZION', 'ZTS']\n",
    "HSI_list = ['0001.HK', '0002.HK', '0003.HK', '0005.HK', '0006.HK', '0011.HK', '0012.HK', '0016.HK', '0017.HK', '0027.HK', '0066.HK', '0101.HK', '0175.HK', '0241.HK', '0267.HK', '0288.HK', '0291.HK', '0316.HK', '0322.HK', '0386.HK', '0388.HK', '0669.HK', '0688.HK', '0700.HK', '0762.HK', '0823.HK', '0857.HK', '0868.HK', '0881.HK', '0883.HK', '0939.HK', '0941.HK', '0960.HK', '0968.HK', '0981.HK', '0992.HK', '1038.HK', '1044.HK', '1088.HK', '1093.HK', '1109.HK', '1113.HK', '1177.HK', '1209.HK', '1211.HK', '1299.HK', '1378.HK', '1398.HK', '1810.HK', '1876.HK', '1928.HK', '1929.HK', '1997.HK', '2007.HK', '2020.HK', '2269.HK', '2313.HK', '2318.HK', '2319.HK', '2331.HK', '2382.HK', '2388.HK', '2628.HK', '2688.HK', '3690.HK', '3692.HK', '3968.HK', '3988.HK', '6098.HK', '6690.HK', '6862.HK', '9618.HK', '9633.HK', '9888.HK', '9988.HK', '9999.HK']\n"
   ]
  },
  {
   "cell_type": "code",
   "execution_count": 5,
   "metadata": {
    "id": "Ugr5HvuyrMdE"
   },
   "outputs": [],
   "source": [
    "# list of Heng Seng Index component stocks and hyper parameters\n",
    "stock_list = HSI_list\n",
    "index_ticker = '^HSI'\n",
    "#index_ticker = '^GSPC'\n",
    "day = 20\n",
    "startdate = '2012-01-01'\n",
    "enddate = '2022-12-31'\n",
    "train_val_ratio = 0.7\n",
    "#device = 'cpu'\n",
    "device = 'cuda'\n",
    "batchsize = 128\n",
    "early_stopping_epoch = 2\n",
    "learningrate = 1e-5\n",
    "epochs = 150"
   ]
  },
  {
   "cell_type": "code",
   "execution_count": 8,
   "metadata": {
    "colab": {
     "base_uri": "https://localhost:8080/",
     "height": 474
    },
    "collapsed": true,
    "id": "VBc0CGkT7VJj",
    "jupyter": {
     "outputs_hidden": true
    },
    "outputId": "32984ce3-dfb2-40b8-a004-9ed7a162c173"
   },
   "outputs": [
    {
     "name": "stdout",
     "output_type": "stream",
     "text": [
      "[*********************100%***********************]  1 of 1 completed\n",
      "0 : Stock of 0001.HK has 2712 records.\n",
      "[*********************100%***********************]  1 of 1 completed\n",
      "1 : Stock of 0002.HK has 2712 records.\n",
      "[*********************100%***********************]  1 of 1 completed\n",
      "2 : Stock of 0003.HK has 2712 records.\n",
      "[*********************100%***********************]  1 of 1 completed\n",
      "3 : Stock of 0005.HK has 2712 records.\n",
      "[*********************100%***********************]  1 of 1 completed\n",
      "4 : Stock of 0006.HK has 2712 records.\n",
      "[*********************100%***********************]  1 of 1 completed\n",
      "5 : Stock of 0011.HK has 2712 records.\n",
      "[*********************100%***********************]  1 of 1 completed\n",
      "6 : Stock of 0012.HK has 2712 records.\n",
      "[*********************100%***********************]  1 of 1 completed\n",
      "7 : Stock of 0016.HK has 2712 records.\n",
      "[*********************100%***********************]  1 of 1 completed\n",
      "8 : Stock of 0017.HK has 2712 records.\n",
      "[*********************100%***********************]  1 of 1 completed\n",
      "9 : Stock of 0027.HK has 2712 records.\n",
      "[*********************100%***********************]  1 of 1 completed\n",
      "10 : Stock of 0066.HK has 2712 records.\n",
      "[*********************100%***********************]  1 of 1 completed\n",
      "11 : Stock of 0101.HK has 2712 records.\n",
      "[*********************100%***********************]  1 of 1 completed\n",
      "12 : Stock of 0175.HK has 2712 records.\n",
      "[*********************100%***********************]  1 of 1 completed\n",
      "13 : Stock of 0241.HK has 2712 records.\n",
      "[*********************100%***********************]  1 of 1 completed\n",
      "14 : Stock of 0267.HK has 2712 records.\n",
      "[*********************100%***********************]  1 of 1 completed\n",
      "15 : Stock of 0288.HK has 2076 records.\n",
      "[*********************100%***********************]  1 of 1 completed\n",
      "16 : Stock of 0291.HK has 2712 records.\n",
      "[*********************100%***********************]  1 of 1 completed\n",
      "17 : Stock of 0316.HK has 2712 records.\n",
      "[*********************100%***********************]  1 of 1 completed\n",
      "18 : Stock of 0322.HK has 2712 records.\n",
      "[*********************100%***********************]  1 of 1 completed\n",
      "19 : Stock of 0386.HK has 2712 records.\n",
      "[*********************100%***********************]  1 of 1 completed\n",
      "20 : Stock of 0388.HK has 2712 records.\n",
      "[*********************100%***********************]  1 of 1 completed\n",
      "21 : Stock of 0669.HK has 2712 records.\n",
      "[*********************100%***********************]  1 of 1 completed\n",
      "22 : Stock of 0688.HK has 2712 records.\n",
      "[*********************100%***********************]  1 of 1 completed\n",
      "23 : Stock of 0700.HK has 2712 records.\n",
      "[*********************100%***********************]  1 of 1 completed\n",
      "24 : Stock of 0762.HK has 2712 records.\n",
      "[*********************100%***********************]  1 of 1 completed\n",
      "25 : Stock of 0823.HK has 2712 records.\n",
      "[*********************100%***********************]  1 of 1 completed\n",
      "26 : Stock of 0857.HK has 2712 records.\n",
      "[*********************100%***********************]  1 of 1 completed\n",
      "27 : Stock of 0868.HK has 2712 records.\n",
      "[*********************100%***********************]  1 of 1 completed\n",
      "28 : Stock of 0881.HK has 2712 records.\n",
      "[*********************100%***********************]  1 of 1 completed\n",
      "29 : Stock of 0883.HK has 2712 records.\n",
      "[*********************100%***********************]  1 of 1 completed\n",
      "30 : Stock of 0939.HK has 2712 records.\n",
      "[*********************100%***********************]  1 of 1 completed\n",
      "31 : Stock of 0941.HK has 2712 records.\n",
      "[*********************100%***********************]  1 of 1 completed\n",
      "32 : Stock of 0960.HK has 2712 records.\n",
      "[*********************100%***********************]  1 of 1 completed\n",
      "33 : Stock of 0968.HK has 2233 records.\n",
      "[*********************100%***********************]  1 of 1 completed\n",
      "34 : Stock of 0981.HK has 2712 records.\n",
      "[*********************100%***********************]  1 of 1 completed\n",
      "35 : Stock of 0992.HK has 2712 records.\n",
      "[*********************100%***********************]  1 of 1 completed\n",
      "36 : Stock of 1038.HK has 2712 records.\n",
      "[*********************100%***********************]  1 of 1 completed\n",
      "37 : Stock of 1044.HK has 2712 records.\n",
      "[*********************100%***********************]  1 of 1 completed\n",
      "38 : Stock of 1088.HK has 2712 records.\n",
      "[*********************100%***********************]  1 of 1 completed\n",
      "39 : Stock of 1093.HK has 2712 records.\n",
      "[*********************100%***********************]  1 of 1 completed\n",
      "40 : Stock of 1109.HK has 2712 records.\n",
      "[*********************100%***********************]  1 of 1 completed\n",
      "41 : Stock of 1113.HK has 1873 records.\n",
      "[*********************100%***********************]  1 of 1 completed\n",
      "42 : Stock of 1177.HK has 2712 records.\n",
      "[*********************100%***********************]  1 of 1 completed\n",
      "43 : Stock of 1209.HK has 509 records.\n",
      "[*********************100%***********************]  1 of 1 completed\n",
      "44 : Stock of 1211.HK has 2712 records.\n",
      "[*********************100%***********************]  1 of 1 completed\n",
      "45 : Stock of 1299.HK has 2712 records.\n",
      "[*********************100%***********************]  1 of 1 completed\n",
      "46 : Stock of 1378.HK has 2712 records.\n",
      "[*********************100%***********************]  1 of 1 completed\n",
      "47 : Stock of 1398.HK has 2712 records.\n",
      "[*********************100%***********************]  1 of 1 completed\n",
      "48 : Stock of 1810.HK has 1108 records.\n",
      "[*********************100%***********************]  1 of 1 completed\n",
      "49 : Stock of 1876.HK has 804 records.\n",
      "[*********************100%***********************]  1 of 1 completed\n",
      "50 : Stock of 1928.HK has 2712 records.\n",
      "[*********************100%***********************]  1 of 1 completed\n",
      "51 : Stock of 1929.HK has 2712 records.\n",
      "[*********************100%***********************]  1 of 1 completed\n",
      "52 : Stock of 1997.HK has 1264 records.\n",
      "[*********************100%***********************]  1 of 1 completed\n",
      "53 : Stock of 2007.HK has 2712 records.\n",
      "[*********************100%***********************]  1 of 1 completed\n",
      "54 : Stock of 2020.HK has 2712 records.\n",
      "[*********************100%***********************]  1 of 1 completed\n",
      "55 : Stock of 2269.HK has 1373 records.\n",
      "[*********************100%***********************]  1 of 1 completed\n",
      "56 : Stock of 2313.HK has 2712 records.\n",
      "[*********************100%***********************]  1 of 1 completed\n",
      "57 : Stock of 2318.HK has 2712 records.\n",
      "[*********************100%***********************]  1 of 1 completed\n",
      "58 : Stock of 2319.HK has 2712 records.\n",
      "[*********************100%***********************]  1 of 1 completed\n",
      "59 : Stock of 2331.HK has 2712 records.\n",
      "[*********************100%***********************]  1 of 1 completed\n",
      "60 : Stock of 2382.HK has 2712 records.\n",
      "[*********************100%***********************]  1 of 1 completed\n",
      "61 : Stock of 2388.HK has 2712 records.\n",
      "[*********************100%***********************]  1 of 1 completed\n",
      "62 : Stock of 2628.HK has 2712 records.\n",
      "[*********************100%***********************]  1 of 1 completed\n",
      "63 : Stock of 2688.HK has 2712 records.\n",
      "[*********************100%***********************]  1 of 1 completed\n",
      "64 : Stock of 3690.HK has 1055 records.\n",
      "[*********************100%***********************]  1 of 1 completed\n",
      "65 : Stock of 3692.HK has 879 records.\n",
      "[*********************100%***********************]  1 of 1 completed\n",
      "66 : Stock of 3968.HK has 2712 records.\n",
      "[*********************100%***********************]  1 of 1 completed\n",
      "67 : Stock of 3988.HK has 2712 records.\n",
      "[*********************100%***********************]  1 of 1 completed\n",
      "68 : Stock of 6098.HK has 1121 records.\n",
      "[*********************100%***********************]  1 of 1 completed\n",
      "69 : Stock of 6690.HK has 499 records.\n",
      "[*********************100%***********************]  1 of 1 completed\n",
      "70 : Stock of 6862.HK has 1052 records.\n",
      "[*********************100%***********************]  1 of 1 completed\n",
      "71 : Stock of 9618.HK has 627 records.\n",
      "[*********************100%***********************]  1 of 1 completed\n",
      "72 : Stock of 9633.HK has 571 records.\n",
      "[*********************100%***********************]  1 of 1 completed\n",
      "73 : Stock of 9888.HK has 439 records.\n",
      "[*********************100%***********************]  1 of 1 completed\n",
      "74 : Stock of 9988.HK has 765 records.\n",
      "[*********************100%***********************]  1 of 1 completed\n",
      "75 : Stock of 9999.HK has 632 records.\n"
     ]
    }
   ],
   "source": [
    "\n",
    "# prepare the data set\n",
    "train_x, train_y, test_x, test_y = [], [], [], []\n",
    "count  = 0\n",
    "for i in stock_list:\n",
    "    # fetch data through yahoo finance \n",
    "    stockdata = data.get_data_yahoo(tickers=i, start=startdate, end=enddate)\n",
    "    print(count,': Stock of',i,'has',len(stockdata),'records.')\n",
    "    count += 1\n",
    "    if len(stockdata)<day*5:\n",
    "        continue\n",
    "    df = pd.DataFrame(columns = ['Open','High','Low','Close','MA','Volume'])\n",
    "    df['Open']=stockdata[\"Open\"]\n",
    "    df['High']=stockdata['High']\n",
    "    df['Low'] =stockdata['Low']\n",
    "    df['Close']=stockdata['Close']\n",
    "    df['Volume']=stockdata['Volume']\n",
    "    # compute moving average\n",
    "    for i in range(len(df)):\n",
    "        if i >= day-1:\n",
    "            df['MA'].iloc[i] = sum(stockdata['Close'].iloc[i-day+1:i+1])/day\n",
    "    df = df.dropna(axis=0, how='any')\n",
    "    data_array = np.array(df)\n",
    "    \n",
    "    data_list = []\n",
    "    label_list = []\n",
    "    # draw the graph of every 5/20 days\n",
    "    for i in range(len(data_array)):\n",
    "        if i <= len(data_array)-2*day:\n",
    "            pixel = get_image_with_price(data_array[i:i+day])\n",
    "            pixel =np.array(pixel)\n",
    "            #print(len(pixel))\n",
    "            data_list.append(pixel)\n",
    "            if data_array[i+day-1][3]<data_array[i+2*day-1][3]:\n",
    "                # label [1,0] represents that stock price rises in 20 days\n",
    "                label_list.append([1,0])\n",
    "            else:\n",
    "                # label [0,1] represents that stock price drops in 20 days\n",
    "                label_list.append([0,1])\n",
    "                \n",
    "    # split data set to train set and test(validation) set\n",
    "    split_idx = int(len(label_list) * train_val_ratio)\n",
    "    train_x += data_list[:split_idx]\n",
    "    train_y += label_list[:split_idx]\n",
    "    test_x += data_list[split_idx:]\n",
    "    test_y += label_list[split_idx:]\n",
    "\n",
    "train_x = np.array(train_x)\n",
    "train_y = np.array(train_y)\n",
    "test_x = np.array(test_x)\n",
    "test_y = np.array(test_y)\n",
    "# save the data sets\n",
    "np.save('train_x_20D_HSI',train_x)\n",
    "np.save('train_y_20D_HSI',train_y)\n",
    "np.save('test_x_20D_HSI',test_x)\n",
    "np.save('test_y_20D_HSI',test_y)\n"
   ]
  },
  {
   "cell_type": "code",
   "execution_count": 10,
   "metadata": {
    "colab": {
     "base_uri": "https://localhost:8080/"
    },
    "id": "-CyECZsPIwht",
    "outputId": "e418fcc5-f6fb-4e28-fb28-7ef5edd7796c"
   },
   "outputs": [
    {
     "name": "stdout",
     "output_type": "stream",
     "text": [
      "The length of train set: 120182\n",
      "The length of test set: 51586\n"
     ]
    }
   ],
   "source": [
    "# load the saved data set\n",
    "train_x = np.load('train_x_20D_HSI.npy',allow_pickle=True)\n",
    "train_y = np.load('train_y_20D_HSI.npy',allow_pickle=True)\n",
    "test_x = np.load('test_x_20D_HSI.npy',allow_pickle=True)\n",
    "test_y = np.load('test_y_20D_HSI.npy',allow_pickle=True)\n",
    "print('The length of train set:',len(train_x))\n",
    "print('The length of test set:',len(test_y))\n",
    "\n",
    "train_dataset = MyDataset(train_x, train_y)\n",
    "val_dataset = MyDataset(test_x, test_y)"
   ]
  },
  {
   "cell_type": "code",
   "execution_count": 10,
   "metadata": {},
   "outputs": [
    {
     "name": "stdout",
     "output_type": "stream",
     "text": [
      "Train set has 63230 positive labels and 56952 negative labels.\n",
      "Test set has 24791 positive labels and 26795 negative labels.\n"
     ]
    }
   ],
   "source": [
    "positive = 0\n",
    "negative = 0\n",
    "for i in train_y:\n",
    "\n",
    "    if i[0] == 1:\n",
    "        positive += 1\n",
    "    if i[0] == 0:\n",
    "        negative += 1\n",
    "print('Train set has',positive,'positive labels and',negative,'negative labels.')\n",
    "positive = 0\n",
    "negative = 0\n",
    "for i in test_y:\n",
    "    if i[0] == 1:\n",
    "        positive += 1\n",
    "    if i[0] == 0:\n",
    "        negative += 1\n",
    "print('Test set has',positive,'positive labels and',negative,'negative labels.')"
   ]
  },
  {
   "cell_type": "code",
   "execution_count": 8,
   "metadata": {
    "colab": {
     "base_uri": "https://localhost:8080/",
     "height": 711
    },
    "id": "WLA_mtKmMmbo",
    "outputId": "4ae8aeba-7c23-4d87-b84d-28aaf7ace1fe"
   },
   "outputs": [
    {
     "name": "stdout",
     "output_type": "stream",
     "text": [
      "Image size: (60, 64)\n",
      "The pixels of the image above are:\n",
      "[[  0   0   0 ...   0   0   0]\n",
      " [  0   0   0 ...   0 255   0]\n",
      " [  0   0   0 ... 255 255   0]\n",
      " ...\n",
      " [  0   0   0 ...   0   0   0]\n",
      " [  0 255   0 ...   0 255   0]\n",
      " [  0 255   0 ...   0 255   0]]\n",
      "\n",
      "\n",
      "The pixels of the image above are:\n",
      "[[  0   0   0 ...   0   0   0]\n",
      " [  0   0   0 ...   0   0   0]\n",
      " [  0   0   0 ...   0   0   0]\n",
      " ...\n",
      " [  0 255   0 ...   0 255   0]\n",
      " [  0 255   0 ...   0 255   0]\n",
      " [  0 255   0 ...   0 255   0]]\n"
     ]
    }
   ],
   "source": [
    "im = Image.fromarray(train_x[-1])\n",
    "print('Image size:',im.size)\n",
    "im = im.resize((300,320),resample=0)\n",
    "im.show()\n",
    "print('The pixels of the image above are:')\n",
    "print(train_x[-10])\n",
    "print('\\n')\n",
    "im = Image.fromarray(train_x[20])\n",
    "im = im.resize((300,320),resample=0)\n",
    "im.show()\n",
    "pic = train_x[0]\n",
    "print('The pixels of the image above are:')\n",
    "print(pic)"
   ]
  },
  {
   "cell_type": "code",
   "execution_count": 7,
   "metadata": {
    "id": "kcX_f8cNjVP_"
   },
   "outputs": [],
   "source": [
    "class Net_20D_V1(nn.Module):\n",
    "    def __init__(self):\n",
    "        super().__init__()\n",
    "        self.layer1 = nn.Sequential(\n",
    "            nn.Conv2d(1, 64, kernel_size=(5,3), stride=(3,1), dilation=(2,1), padding=(7,1)),\n",
    "            nn.LayerNorm([64, 24, 60]),\n",
    "            nn.LeakyReLU(negative_slope=0.01, inplace=True),\n",
    "            nn.MaxPool2d((2, 1), stride=(2, 1)),\n",
    "        )\n",
    "        self.layer2 = nn.Sequential(\n",
    "            nn.Conv2d(64, 128, kernel_size=(5,3), padding=(2,1)),\n",
    "            nn.LayerNorm([128, 12, 60]),\n",
    "            nn.LeakyReLU(negative_slope=0.01, inplace=True),\n",
    "            nn.MaxPool2d((2, 1), stride=(2, 1)),\n",
    "        )\n",
    "        self.layer3 = nn.Sequential(\n",
    "            nn.Conv2d(128, 256, kernel_size=(5,3), padding=(2,1)),\n",
    "            nn.LayerNorm([256, 6, 60]),\n",
    "            nn.LeakyReLU(negative_slope=0.01, inplace=True),\n",
    "            nn.MaxPool2d((2, 1), stride=(2, 1)),\n",
    "        )\n",
    "        self.fc1 = nn.Sequential(\n",
    "            nn.Dropout(p=0.5),\n",
    "            nn.Linear(46080, 2),\n",
    "        )\n",
    "        #self.softmax = nn.Softmax(dim=1)\n",
    "       \n",
    "    def forward(self, x):\n",
    "        x = x.reshape(-1,1,64,60)\n",
    "        x = self.layer1(x)\n",
    "        x = self.layer2(x)\n",
    "        x = self.layer3(x)\n",
    "        x = x.reshape(-1,46080)\n",
    "        x = self.fc1(x)\n",
    "        #x = self.softmax(x)\n",
    "        return x"
   ]
  },
  {
   "cell_type": "code",
   "execution_count": 58,
   "metadata": {
    "id": "BLJeNRhztEWu"
   },
   "outputs": [],
   "source": [
    "class Net_20D_V2(nn.Module):\n",
    "    def __init__(self):\n",
    "        super().__init__()\n",
    "        self.layer1 = nn.Sequential(\n",
    "            nn.Conv2d(1, 64, kernel_size=(5,3), stride=(3,1), dilation=(2,1), padding=(12,1)),\n",
    "            nn.LayerNorm([64, 27, 60]),\n",
    "            nn.LeakyReLU(negative_slope=0.01, inplace=True),\n",
    "            nn.MaxPool2d((2, 1), stride=(2, 1)),\n",
    "        )\n",
    "        self.layer2 = nn.Sequential(\n",
    "            nn.Conv2d(64, 128, kernel_size=(5,3), stride=(3,1), dilation=(2,1), padding=(12,1)),\n",
    "            nn.LayerNorm([128, 10, 60]),\n",
    "            nn.LeakyReLU(negative_slope=0.01, inplace=True),\n",
    "            nn.MaxPool2d((2, 1), stride=(2, 1)),\n",
    "        )\n",
    "        self.layer3 = nn.Sequential(\n",
    "            nn.Conv2d(128, 256, kernel_size=(5,3), stride=(3,1), dilation=(2,1), padding=(12,1)),\n",
    "            nn.LayerNorm([256, 7, 60]),\n",
    "            nn.LeakyReLU(negative_slope=0.01, inplace=True),\n",
    "            nn.MaxPool2d((2, 1), stride=(2, 1)),\n",
    "        )\n",
    "        self.fc1 = nn.Sequential(\n",
    "            nn.Dropout(p=0.5),\n",
    "            nn.Linear(46080, 2),\n",
    "        )\n",
    "        self.softmax = nn.Softmax(dim=1)\n",
    "        #self.sigmoid = nn.Sigmoid()\n",
    "    def forward(self, x):\n",
    "        x = x.reshape(-1,1,64,60)\n",
    "        x = self.layer1(x)\n",
    "        x = self.layer2(x)\n",
    "        x = self.layer3(x)\n",
    "        x = x.reshape(-1,46080)\n",
    "        x = self.fc1(x)\n",
    "        x = self.softmax(x)\n",
    "        return x"
   ]
  },
  {
   "cell_type": "code",
   "execution_count": 8,
   "metadata": {
    "id": "29PvR0Qxt_jq"
   },
   "outputs": [],
   "source": [
    "def init_weights(m):\n",
    "    # initialize the weights of a model\n",
    "    if isinstance(m, nn.Linear):\n",
    "        torch.nn.init.xavier_uniform_(m.weight)\n",
    "        m.bias.data.fill_(0.)\n",
    "    elif isinstance(m, nn.Conv2d):\n",
    "        torch.nn.init.xavier_uniform_(m.weight)"
   ]
  },
  {
   "cell_type": "code",
   "execution_count": 8,
   "metadata": {
    "colab": {
     "base_uri": "https://localhost:8080/"
    },
    "id": "jmS5a8WA8Has",
    "outputId": "b42aa22c-4d7f-4fce-a02b-adb1630111a6"
   },
   "outputs": [
    {
     "ename": "NameError",
     "evalue": "name 'train_dataset' is not defined",
     "output_type": "error",
     "traceback": [
      "\u001b[0;31m---------------------------------------------------------------------------\u001b[0m",
      "\u001b[0;31mNameError\u001b[0m                                 Traceback (most recent call last)",
      "\u001b[0;32m<ipython-input-8-cf2196b8dd40>\u001b[0m in \u001b[0;36m<module>\u001b[0;34m\u001b[0m\n\u001b[1;32m      1\u001b[0m \u001b[0;31m# load the train set\u001b[0m\u001b[0;34m\u001b[0m\u001b[0;34m\u001b[0m\u001b[0;34m\u001b[0m\u001b[0m\n\u001b[0;32m----> 2\u001b[0;31m \u001b[0mtrain_dataloader\u001b[0m \u001b[0;34m=\u001b[0m \u001b[0mDataLoader\u001b[0m\u001b[0;34m(\u001b[0m\u001b[0mtrain_dataset\u001b[0m\u001b[0;34m,\u001b[0m \u001b[0mbatch_size\u001b[0m\u001b[0;34m=\u001b[0m\u001b[0mbatchsize\u001b[0m\u001b[0;34m,\u001b[0m \u001b[0mshuffle\u001b[0m\u001b[0;34m=\u001b[0m\u001b[0;32mTrue\u001b[0m\u001b[0;34m,\u001b[0m \u001b[0mpin_memory\u001b[0m\u001b[0;34m=\u001b[0m\u001b[0;32mTrue\u001b[0m\u001b[0;34m)\u001b[0m\u001b[0;34m\u001b[0m\u001b[0;34m\u001b[0m\u001b[0m\n\u001b[0m\u001b[1;32m      3\u001b[0m \u001b[0;31m# load the test(validation) set\u001b[0m\u001b[0;34m\u001b[0m\u001b[0;34m\u001b[0m\u001b[0;34m\u001b[0m\u001b[0m\n\u001b[1;32m      4\u001b[0m \u001b[0mval_dataloader\u001b[0m \u001b[0;34m=\u001b[0m \u001b[0mDataLoader\u001b[0m\u001b[0;34m(\u001b[0m\u001b[0mval_dataset\u001b[0m\u001b[0;34m,\u001b[0m \u001b[0mbatch_size\u001b[0m\u001b[0;34m=\u001b[0m\u001b[0mbatchsize\u001b[0m\u001b[0;34m,\u001b[0m \u001b[0mshuffle\u001b[0m\u001b[0;34m=\u001b[0m\u001b[0;32mFalse\u001b[0m\u001b[0;34m,\u001b[0m \u001b[0mpin_memory\u001b[0m\u001b[0;34m=\u001b[0m\u001b[0;32mTrue\u001b[0m\u001b[0;34m)\u001b[0m\u001b[0;34m\u001b[0m\u001b[0;34m\u001b[0m\u001b[0m\n\u001b[1;32m      5\u001b[0m \u001b[0;31m# create the model and initialize the weights\u001b[0m\u001b[0;34m\u001b[0m\u001b[0;34m\u001b[0m\u001b[0;34m\u001b[0m\u001b[0m\n",
      "\u001b[0;31mNameError\u001b[0m: name 'train_dataset' is not defined"
     ]
    }
   ],
   "source": [
    "\n",
    "# load the train set\n",
    "train_dataloader = DataLoader(train_dataset, batch_size=batchsize, shuffle=True, pin_memory=True)\n",
    "# load the test(validation) set\n",
    "val_dataloader = DataLoader(val_dataset, batch_size=batchsize, shuffle=False, pin_memory=True)\n",
    "# create the model and initialize the weights\n",
    "net = Net_20D_V2().to(device)\n",
    "#net = CNN_20D().to(device)\n",
    "net.apply(init_weights)"
   ]
  },
  {
   "cell_type": "code",
   "execution_count": 9,
   "metadata": {
    "id": "_BxrTcE78etq"
   },
   "outputs": [],
   "source": [
    "def train_loop(dataloader, net, loss_fn, optimizer):\n",
    "    \n",
    "    running_loss = 0.0\n",
    "    current = 0\n",
    "    acc = 0\n",
    "    net.train()\n",
    "    pos = 0\n",
    "    neg = 0\n",
    "    pos_hit = 0\n",
    "    neg_hit = 0\n",
    "    with tqdm(dataloader) as t:\n",
    "        for batch, (X, y) in enumerate(t):\n",
    "            X = X.to(device)\n",
    "            y = y.to(device)\n",
    "            y_pred = net(X)\n",
    "            loss = loss_fn(y_pred, y)\n",
    "\n",
    "            \n",
    "            loss.backward()\n",
    "            optimizer.step()\n",
    "            optimizer.zero_grad()\n",
    "            running_loss = (len(X) * loss.item() + running_loss * current) / (len(X) + current)\n",
    "            hit = 0\n",
    "            for i in range(len(y_pred)):\n",
    "                if y[i][0]==1:\n",
    "                    pos += 1\n",
    "                    if y_pred[i][0]>y_pred[i][1] :\n",
    "                        hit += 1\n",
    "                        pos_hit += 1\n",
    "                if y[i][1]==1:\n",
    "                    neg += 1\n",
    "                    if y_pred[i][0]<=y_pred[i][1] :\n",
    "                    \n",
    "                        hit += 1\n",
    "                        neg_hit += 1\n",
    "            acc = (acc*current + hit)/(current+len(X)) \n",
    "            \n",
    "            \n",
    "            current += len(X)\n",
    "            t.set_postfix({'running_loss':running_loss})\n",
    "    \n",
    "    return running_loss,acc,pos_hit/pos, neg_hit/neg"
   ]
  },
  {
   "cell_type": "code",
   "execution_count": 10,
   "metadata": {
    "id": "AJxYLCAr8jjC"
   },
   "outputs": [],
   "source": [
    "def val_loop(dataloader, net, loss_fn):\n",
    "\n",
    "    running_loss = 0.0\n",
    "    current = 0\n",
    "    acc = 0\n",
    "    net.eval()\n",
    "    pos = 0\n",
    "    neg = 0\n",
    "    pos_hit = 0\n",
    "    neg_hit = 0\n",
    "    with torch.no_grad():\n",
    "        with tqdm(dataloader) as t:\n",
    "            for batch, (X, y) in enumerate(t):\n",
    "                X = X.to(device)\n",
    "                y = y.to(device)\n",
    "                y_pred = net(X)\n",
    "                loss = loss_fn(y_pred, y)\n",
    "                running_loss = (len(X) * loss.item() + running_loss * current) / (len(X) + current)\n",
    "                hit = 0\n",
    "\n",
    "                for i in range(len(y_pred)):\n",
    "                    if y[i][0]==1:\n",
    "                        pos += 1\n",
    "                        if y_pred[i][0]>y_pred[i][1] :\n",
    "                            hit += 1\n",
    "                            pos_hit += 1\n",
    "                    if y[i][1]==1:\n",
    "                        neg += 1\n",
    "                        if y_pred[i][0]<=y_pred[i][1] :\n",
    "                            hit += 1\n",
    "                            neg_hit += 1\n",
    "                acc = (acc*current + hit)/(current+len(X))      \n",
    "                current += len(X)\n",
    "            \n",
    "    return running_loss, acc, pos_hit/pos, neg_hit/neg"
   ]
  },
  {
   "cell_type": "code",
   "execution_count": null,
   "metadata": {
    "colab": {
     "base_uri": "https://localhost:8080/"
    },
    "collapsed": true,
    "id": "jGd7vXUH8qHe",
    "jupyter": {
     "outputs_hidden": true
    },
    "outputId": "3dbfc229-db46-44de-c714-0ffc36290277"
   },
   "outputs": [
    {
     "name": "stdout",
     "output_type": "stream",
     "text": [
      "Looking in indexes: https://pypi.org/simple, https://us-python.pkg.dev/colab-wheels/public/simple/\n",
      "Requirement already satisfied: tensorboard in /usr/local/lib/python3.8/dist-packages (2.11.2)\n",
      "Requirement already satisfied: tensorboard-data-server<0.7.0,>=0.6.0 in /usr/local/lib/python3.8/dist-packages (from tensorboard) (0.6.1)\n",
      "Requirement already satisfied: requests<3,>=2.21.0 in /usr/local/lib/python3.8/dist-packages (from tensorboard) (2.28.2)\n",
      "Requirement already satisfied: markdown>=2.6.8 in /usr/local/lib/python3.8/dist-packages (from tensorboard) (3.4.1)\n",
      "Requirement already satisfied: absl-py>=0.4 in /usr/local/lib/python3.8/dist-packages (from tensorboard) (1.4.0)\n",
      "Requirement already satisfied: wheel>=0.26 in /usr/local/lib/python3.8/dist-packages (from tensorboard) (0.38.4)\n",
      "Requirement already satisfied: google-auth-oauthlib<0.5,>=0.4.1 in /usr/local/lib/python3.8/dist-packages (from tensorboard) (0.4.6)\n",
      "Requirement already satisfied: protobuf<4,>=3.9.2 in /usr/local/lib/python3.8/dist-packages (from tensorboard) (3.19.6)\n",
      "Requirement already satisfied: google-auth<3,>=1.6.3 in /usr/local/lib/python3.8/dist-packages (from tensorboard) (2.16.1)\n",
      "Requirement already satisfied: grpcio>=1.24.3 in /usr/local/lib/python3.8/dist-packages (from tensorboard) (1.51.3)\n",
      "Requirement already satisfied: setuptools>=41.0.0 in /usr/local/lib/python3.8/dist-packages (from tensorboard) (57.4.0)\n",
      "Requirement already satisfied: werkzeug>=1.0.1 in /usr/local/lib/python3.8/dist-packages (from tensorboard) (1.0.1)\n",
      "Requirement already satisfied: numpy>=1.12.0 in /usr/local/lib/python3.8/dist-packages (from tensorboard) (1.22.4)\n",
      "Requirement already satisfied: tensorboard-plugin-wit>=1.6.0 in /usr/local/lib/python3.8/dist-packages (from tensorboard) (1.8.1)\n",
      "Requirement already satisfied: six>=1.9.0 in /usr/local/lib/python3.8/dist-packages (from google-auth<3,>=1.6.3->tensorboard) (1.15.0)\n",
      "Requirement already satisfied: cachetools<6.0,>=2.0.0 in /usr/local/lib/python3.8/dist-packages (from google-auth<3,>=1.6.3->tensorboard) (5.3.0)\n",
      "Requirement already satisfied: rsa<5,>=3.1.4 in /usr/local/lib/python3.8/dist-packages (from google-auth<3,>=1.6.3->tensorboard) (4.9)\n",
      "Requirement already satisfied: pyasn1-modules>=0.2.1 in /usr/local/lib/python3.8/dist-packages (from google-auth<3,>=1.6.3->tensorboard) (0.2.8)\n",
      "Requirement already satisfied: requests-oauthlib>=0.7.0 in /usr/local/lib/python3.8/dist-packages (from google-auth-oauthlib<0.5,>=0.4.1->tensorboard) (1.3.1)\n",
      "Requirement already satisfied: importlib-metadata>=4.4 in /usr/local/lib/python3.8/dist-packages (from markdown>=2.6.8->tensorboard) (6.0.0)\n",
      "Requirement already satisfied: charset-normalizer<4,>=2 in /usr/local/lib/python3.8/dist-packages (from requests<3,>=2.21.0->tensorboard) (3.0.1)\n",
      "Requirement already satisfied: urllib3<1.27,>=1.21.1 in /usr/local/lib/python3.8/dist-packages (from requests<3,>=2.21.0->tensorboard) (1.24.3)\n",
      "Requirement already satisfied: certifi>=2017.4.17 in /usr/local/lib/python3.8/dist-packages (from requests<3,>=2.21.0->tensorboard) (2022.12.7)\n",
      "Requirement already satisfied: idna<4,>=2.5 in /usr/local/lib/python3.8/dist-packages (from requests<3,>=2.21.0->tensorboard) (2.10)\n",
      "Requirement already satisfied: zipp>=0.5 in /usr/local/lib/python3.8/dist-packages (from importlib-metadata>=4.4->markdown>=2.6.8->tensorboard) (3.14.0)\n",
      "Requirement already satisfied: pyasn1<0.5.0,>=0.4.6 in /usr/local/lib/python3.8/dist-packages (from pyasn1-modules>=0.2.1->google-auth<3,>=1.6.3->tensorboard) (0.4.8)\n",
      "Requirement already satisfied: oauthlib>=3.0.0 in /usr/local/lib/python3.8/dist-packages (from requests-oauthlib>=0.7.0->google-auth-oauthlib<0.5,>=0.4.1->tensorboard) (3.2.2)\n"
     ]
    }
   ],
   "source": [
    "pip install tensorboard"
   ]
  },
  {
   "cell_type": "code",
   "execution_count": 11,
   "metadata": {
    "id": "BV1RtKbi8stO"
   },
   "outputs": [
    {
     "ename": "NameError",
     "evalue": "name 'net' is not defined",
     "output_type": "error",
     "traceback": [
      "\u001b[0;31m---------------------------------------------------------------------------\u001b[0m",
      "\u001b[0;31mNameError\u001b[0m                                 Traceback (most recent call last)",
      "\u001b[0;32m<ipython-input-11-3b27221d10dd>\u001b[0m in \u001b[0;36m<module>\u001b[0;34m\u001b[0m\n\u001b[1;32m      1\u001b[0m \u001b[0;31m#loss_fn = nn.BCELoss()\u001b[0m\u001b[0;34m\u001b[0m\u001b[0;34m\u001b[0m\u001b[0;34m\u001b[0m\u001b[0m\n\u001b[1;32m      2\u001b[0m \u001b[0mloss_fn\u001b[0m \u001b[0;34m=\u001b[0m \u001b[0mnn\u001b[0m\u001b[0;34m.\u001b[0m\u001b[0mCrossEntropyLoss\u001b[0m\u001b[0;34m(\u001b[0m\u001b[0;34m)\u001b[0m\u001b[0;34m\u001b[0m\u001b[0;34m\u001b[0m\u001b[0m\n\u001b[0;32m----> 3\u001b[0;31m \u001b[0moptimizer\u001b[0m \u001b[0;34m=\u001b[0m \u001b[0mtorch\u001b[0m\u001b[0;34m.\u001b[0m\u001b[0moptim\u001b[0m\u001b[0;34m.\u001b[0m\u001b[0mAdam\u001b[0m\u001b[0;34m(\u001b[0m\u001b[0mnet\u001b[0m\u001b[0;34m.\u001b[0m\u001b[0mparameters\u001b[0m\u001b[0;34m(\u001b[0m\u001b[0;34m)\u001b[0m\u001b[0;34m,\u001b[0m \u001b[0mlr\u001b[0m\u001b[0;34m=\u001b[0m\u001b[0mlearningrate\u001b[0m\u001b[0;34m)\u001b[0m\u001b[0;34m\u001b[0m\u001b[0;34m\u001b[0m\u001b[0m\n\u001b[0m\u001b[1;32m      4\u001b[0m \u001b[0;31m#optimizer = torch.optim.SGD(net.parameters(), lr=learningrate)\u001b[0m\u001b[0;34m\u001b[0m\u001b[0;34m\u001b[0m\u001b[0;34m\u001b[0m\u001b[0m\n\u001b[1;32m      5\u001b[0m \u001b[0mstart_epoch\u001b[0m \u001b[0;34m=\u001b[0m \u001b[0;36m0\u001b[0m\u001b[0;34m\u001b[0m\u001b[0;34m\u001b[0m\u001b[0m\n",
      "\u001b[0;31mNameError\u001b[0m: name 'net' is not defined"
     ]
    }
   ],
   "source": [
    "\n",
    "loss_fn = nn.CrossEntropyLoss()\n",
    "optimizer = torch.optim.Adam(net.parameters(), lr=learningrate)\n",
    "#optimizer = torch.optim.SGD(net.parameters(), lr=learningrate)\n",
    "start_epoch = 0\n",
    "min_val_loss = 1e9\n",
    "last_min_ind = -1\n",
    "\n",
    "\n",
    "from torch.utils.tensorboard import SummaryWriter\n",
    "tb = SummaryWriter()"
   ]
  },
  {
   "cell_type": "code",
   "execution_count": 19,
   "metadata": {
    "colab": {
     "base_uri": "https://localhost:8080/",
     "height": 1000
    },
    "id": "igzAh2wF8z9R",
    "outputId": "4da9af35-6820-4eae-b6ee-7d85fb45812b"
   },
   "outputs": [
    {
     "name": "stderr",
     "output_type": "stream",
     "text": [
      "  0%|          | 0/939 [00:00<?, ?it/s]"
     ]
    },
    {
     "name": "stdout",
     "output_type": "stream",
     "text": [
      "Epoch 0\n",
      "-------------------------------\n"
     ]
    },
    {
     "name": "stderr",
     "output_type": "stream",
     "text": [
      "100%|██████████| 939/939 [00:46<00:00, 20.38it/s, running_loss=0.911]\n",
      "100%|██████████| 404/404 [00:09<00:00, 44.20it/s]\n",
      "  0%|          | 3/939 [00:00<00:45, 20.67it/s, running_loss=0.845]"
     ]
    },
    {
     "name": "stdout",
     "output_type": "stream",
     "text": [
      "time cost: 0:00:55.233631\n",
      "val_loss: 0.7028411697991034 val_acc: 0.5084131353467988 0.3377435359606309 0.6663183429744355\n",
      "train_loss 0.9107485330608116 train_acc: 0.5051671631359101 0.5446307132690179 0.4613534204242169\n",
      "Epoch 1\n",
      "-------------------------------\n"
     ]
    },
    {
     "name": "stderr",
     "output_type": "stream",
     "text": [
      "100%|██████████| 939/939 [00:44<00:00, 21.06it/s, running_loss=0.774]\n",
      "100%|██████████| 404/404 [00:09<00:00, 44.09it/s]\n",
      "  0%|          | 3/939 [00:00<00:45, 20.61it/s, running_loss=0.76]"
     ]
    },
    {
     "name": "stdout",
     "output_type": "stream",
     "text": [
      "time cost: 0:00:53.750501\n",
      "val_loss: 0.7001150135191067 val_acc: 0.5001163106269148 0.60477592674761 0.403284194812465\n",
      "train_loss 0.7739176408163875 train_acc: 0.5082874307300596 0.5595761505614424 0.45134499227419583\n",
      "Epoch 2\n",
      "-------------------------------\n"
     ]
    },
    {
     "name": "stderr",
     "output_type": "stream",
     "text": [
      "100%|██████████| 939/939 [00:46<00:00, 20.33it/s, running_loss=0.741]\n",
      "100%|██████████| 404/404 [00:09<00:00, 43.26it/s]\n",
      "  0%|          | 2/939 [00:00<00:48, 19.24it/s, running_loss=0.736]"
     ]
    },
    {
     "name": "stdout",
     "output_type": "stream",
     "text": [
      "time cost: 0:00:55.525475\n",
      "val_loss: 0.6966217224213305 val_acc: 0.5130267902143996 0.26223226170787783 0.7450643776824034\n",
      "train_loss 0.7409909212238727 train_acc: 0.5150854537285119 0.5771152933733987 0.44621786767804467\n",
      "Epoch 3\n",
      "-------------------------------\n"
     ]
    },
    {
     "name": "stderr",
     "output_type": "stream",
     "text": [
      "100%|██████████| 939/939 [00:46<00:00, 20.08it/s, running_loss=0.728]\n",
      "100%|██████████| 404/404 [00:09<00:00, 44.13it/s]\n",
      "  0%|          | 3/939 [00:00<00:45, 20.55it/s, running_loss=0.728]"
     ]
    },
    {
     "name": "stdout",
     "output_type": "stream",
     "text": [
      "time cost: 0:00:55.924446\n",
      "val_loss: 0.6981330815686361 val_acc: 0.4977319427751716 0.6497922633213666 0.3570442246687815\n",
      "train_loss 0.7281380987598237 train_acc: 0.5143948345010073 0.5861141863039696 0.43476963056609075\n",
      "Epoch 4\n",
      "-------------------------------\n"
     ]
    },
    {
     "name": "stderr",
     "output_type": "stream",
     "text": [
      "100%|██████████| 939/939 [00:45<00:00, 20.56it/s, running_loss=0.719]\n",
      "100%|██████████| 404/404 [00:09<00:00, 43.50it/s]\n",
      "  0%|          | 3/939 [00:00<00:45, 20.56it/s, running_loss=0.697]"
     ]
    },
    {
     "name": "stdout",
     "output_type": "stream",
     "text": [
      "time cost: 0:00:54.962909\n",
      "val_loss: 0.694610811271678 val_acc: 0.5126972434381423 0.33028115041749023 0.68147042358649\n",
      "train_loss 0.7192748985503034 train_acc: 0.5183554941671813 0.5960303653329115 0.43211827503862904\n",
      "Epoch 5\n",
      "-------------------------------\n"
     ]
    },
    {
     "name": "stderr",
     "output_type": "stream",
     "text": [
      "100%|██████████| 939/939 [00:45<00:00, 20.42it/s, running_loss=0.712]\n",
      "100%|██████████| 404/404 [00:09<00:00, 43.47it/s]\n",
      "  0%|          | 2/939 [00:00<00:47, 19.64it/s, running_loss=0.733]"
     ]
    },
    {
     "name": "stdout",
     "output_type": "stream",
     "text": [
      "time cost: 0:00:55.284004\n",
      "val_loss: 0.6941201056634697 val_acc: 0.5149459155584849 0.26804082126578194 0.7433849598805747\n",
      "train_loss 0.7119911262767296 train_acc: 0.5211429332179536 0.6036849596710422 0.42950203680292176\n",
      "Epoch 6\n",
      "-------------------------------\n"
     ]
    },
    {
     "name": "stderr",
     "output_type": "stream",
     "text": [
      "100%|██████████| 939/939 [00:46<00:00, 20.27it/s, running_loss=0.707]\n",
      "100%|██████████| 404/404 [00:09<00:00, 44.16it/s]\n",
      "  0%|          | 3/939 [00:00<00:45, 20.66it/s, running_loss=0.703]"
     ]
    },
    {
     "name": "stdout",
     "output_type": "stream",
     "text": [
      "time cost: 0:00:55.472352\n",
      "val_loss: 0.6984938639287074 val_acc: 0.4911991625634862 0.7328869347747167 0.2675872364247061\n",
      "train_loss 0.7073378240646957 train_acc: 0.5223910402556127 0.6110706942906848 0.42393594605983986\n",
      "Epoch 7\n",
      "-------------------------------\n"
     ]
    },
    {
     "name": "stderr",
     "output_type": "stream",
     "text": [
      "100%|██████████| 939/939 [00:45<00:00, 20.51it/s, running_loss=0.703]\n",
      "100%|██████████| 404/404 [00:09<00:00, 43.88it/s]\n"
     ]
    },
    {
     "name": "stdout",
     "output_type": "stream",
     "text": [
      "Done!\n",
      "Best epoch: 6, val_loss: 0.6941201056634697\n"
     ]
    }
   ],
   "source": [
    "for t in range(start_epoch, epochs):\n",
    "    print(f\"Epoch {t}\\n-------------------------------\")\n",
    "    start_time = datetime.datetime.now()\n",
    "    train_loss, train_acc,train_pos,train_neg = train_loop(train_dataloader, net, loss_fn, optimizer)\n",
    "    val_loss, val_acc,val_pos,val_neg = val_loop(val_dataloader, net, loss_fn)\n",
    "    tb.add_histogram(\"train_loss\", train_loss, t)\n",
    "    if val_loss < min_val_loss:\n",
    "        last_min_ind = t\n",
    "        min_val_loss = val_loss\n",
    "        para_dict = net.state_dict()\n",
    "    elif t - last_min_ind >= early_stopping_epoch:\n",
    "        break\n",
    "    end_time = datetime.datetime.now()\n",
    "    print('time cost:',end_time-start_time)\n",
    "    print('val_loss:',val_loss,'val_acc:',val_acc,val_pos,val_neg)\n",
    "    print('train_loss',train_loss,'train_acc:',train_acc,train_pos,train_neg)\n",
    "\n",
    "print('Done!')\n",
    "print('Best epoch: {}, val_loss: {}'.format(last_min_ind+1, min_val_loss))\n",
    "\n",
    "\n",
    "torch.save(para_dict, \"./Net_20D_V2_HSI_1.pkl\")\n"
   ]
  },
  {
   "cell_type": "code",
   "execution_count": 59,
   "metadata": {
    "colab": {
     "base_uri": "https://localhost:8080/"
    },
    "id": "bFx46J36usaB",
    "outputId": "549026d5-495f-48ec-d978-e8ed6bed47c1"
   },
   "outputs": [],
   "source": [
    "# load the saved model \n",
    "#torch.save(para_dict, \"./Net_20D_V1_SP_1.pkl\")\n",
    "new_net = Net_20D_V2().to(device)\n",
    "#new_net.apply(init_weights)                          \n",
    "new_net.load_state_dict(torch.load(\"./Net_20D_V2_HSI_1.pkl\"))        \n",
    "new_net.eval()\n",
    "loss_fn = nn.CrossEntropyLoss()"
   ]
  },
  {
   "cell_type": "code",
   "execution_count": 14,
   "metadata": {
    "colab": {
     "base_uri": "https://localhost:8080/"
    },
    "id": "QisQk5Kh4OEN",
    "outputId": "c47cc78c-f4a2-4e4a-96a8-ec1103c78413"
   },
   "outputs": [
    {
     "name": "stdout",
     "output_type": "stream",
     "text": [
      "[*********************100%***********************]  1 of 1 completed\n"
     ]
    }
   ],
   "source": [
    "testdata = data.get_data_yahoo(tickers=stock_list[0], start=startdate, end=enddate)\n",
    "testdata\n",
    "# select the dates for test\n",
    "testtime = []\n",
    "\n",
    "for i in range(len(testdata)):\n",
    "  if i>=2*day-1 and i<=len(testdata)-day-1:\n",
    "    if (i+1)%day==0:\n",
    "      testtime.append(testdata.index[i])\n",
    "# the dataframe to save prediction probabilities\n",
    "pred_prob = pd.DataFrame(data=None, columns=stock_list, index=testtime)\n",
    "testtime = []\n",
    "for i in range(len(testdata)):\n",
    "  if i>=2*day-1:\n",
    "    if (i+1)%day==0:\n",
    "      testtime.append(testdata.index[i])\n",
    "# the dataframe to save true stock prices\n",
    "true_price = pd.DataFrame(data=None, columns=stock_list, index=testtime)\n"
   ]
  },
  {
   "cell_type": "code",
   "execution_count": 15,
   "metadata": {
    "colab": {
     "base_uri": "https://localhost:8080/",
     "height": 661
    },
    "id": "2C_ur_DTbkUQ",
    "outputId": "e8070b5a-981e-4258-e544-1371387dbf7e"
   },
   "outputs": [
    {
     "data": {
      "text/html": [
       "<div>\n",
       "<style scoped>\n",
       "    .dataframe tbody tr th:only-of-type {\n",
       "        vertical-align: middle;\n",
       "    }\n",
       "\n",
       "    .dataframe tbody tr th {\n",
       "        vertical-align: top;\n",
       "    }\n",
       "\n",
       "    .dataframe thead th {\n",
       "        text-align: right;\n",
       "    }\n",
       "</style>\n",
       "<table border=\"1\" class=\"dataframe\">\n",
       "  <thead>\n",
       "    <tr style=\"text-align: right;\">\n",
       "      <th></th>\n",
       "      <th>0001.HK</th>\n",
       "      <th>0002.HK</th>\n",
       "      <th>0003.HK</th>\n",
       "      <th>0005.HK</th>\n",
       "      <th>0006.HK</th>\n",
       "      <th>0011.HK</th>\n",
       "      <th>0012.HK</th>\n",
       "      <th>0016.HK</th>\n",
       "      <th>0017.HK</th>\n",
       "      <th>0027.HK</th>\n",
       "      <th>...</th>\n",
       "      <th>3968.HK</th>\n",
       "      <th>3988.HK</th>\n",
       "      <th>6098.HK</th>\n",
       "      <th>6690.HK</th>\n",
       "      <th>6862.HK</th>\n",
       "      <th>9618.HK</th>\n",
       "      <th>9633.HK</th>\n",
       "      <th>9888.HK</th>\n",
       "      <th>9988.HK</th>\n",
       "      <th>9999.HK</th>\n",
       "    </tr>\n",
       "  </thead>\n",
       "  <tbody>\n",
       "    <tr>\n",
       "      <th>2012-03-01</th>\n",
       "      <td>NaN</td>\n",
       "      <td>NaN</td>\n",
       "      <td>NaN</td>\n",
       "      <td>NaN</td>\n",
       "      <td>NaN</td>\n",
       "      <td>NaN</td>\n",
       "      <td>NaN</td>\n",
       "      <td>NaN</td>\n",
       "      <td>NaN</td>\n",
       "      <td>NaN</td>\n",
       "      <td>...</td>\n",
       "      <td>NaN</td>\n",
       "      <td>NaN</td>\n",
       "      <td>NaN</td>\n",
       "      <td>NaN</td>\n",
       "      <td>NaN</td>\n",
       "      <td>NaN</td>\n",
       "      <td>NaN</td>\n",
       "      <td>NaN</td>\n",
       "      <td>NaN</td>\n",
       "      <td>NaN</td>\n",
       "    </tr>\n",
       "    <tr>\n",
       "      <th>2012-03-30</th>\n",
       "      <td>NaN</td>\n",
       "      <td>NaN</td>\n",
       "      <td>NaN</td>\n",
       "      <td>NaN</td>\n",
       "      <td>NaN</td>\n",
       "      <td>NaN</td>\n",
       "      <td>NaN</td>\n",
       "      <td>NaN</td>\n",
       "      <td>NaN</td>\n",
       "      <td>NaN</td>\n",
       "      <td>...</td>\n",
       "      <td>NaN</td>\n",
       "      <td>NaN</td>\n",
       "      <td>NaN</td>\n",
       "      <td>NaN</td>\n",
       "      <td>NaN</td>\n",
       "      <td>NaN</td>\n",
       "      <td>NaN</td>\n",
       "      <td>NaN</td>\n",
       "      <td>NaN</td>\n",
       "      <td>NaN</td>\n",
       "    </tr>\n",
       "    <tr>\n",
       "      <th>2012-05-03</th>\n",
       "      <td>NaN</td>\n",
       "      <td>NaN</td>\n",
       "      <td>NaN</td>\n",
       "      <td>NaN</td>\n",
       "      <td>NaN</td>\n",
       "      <td>NaN</td>\n",
       "      <td>NaN</td>\n",
       "      <td>NaN</td>\n",
       "      <td>NaN</td>\n",
       "      <td>NaN</td>\n",
       "      <td>...</td>\n",
       "      <td>NaN</td>\n",
       "      <td>NaN</td>\n",
       "      <td>NaN</td>\n",
       "      <td>NaN</td>\n",
       "      <td>NaN</td>\n",
       "      <td>NaN</td>\n",
       "      <td>NaN</td>\n",
       "      <td>NaN</td>\n",
       "      <td>NaN</td>\n",
       "      <td>NaN</td>\n",
       "    </tr>\n",
       "    <tr>\n",
       "      <th>2012-05-31</th>\n",
       "      <td>NaN</td>\n",
       "      <td>NaN</td>\n",
       "      <td>NaN</td>\n",
       "      <td>NaN</td>\n",
       "      <td>NaN</td>\n",
       "      <td>NaN</td>\n",
       "      <td>NaN</td>\n",
       "      <td>NaN</td>\n",
       "      <td>NaN</td>\n",
       "      <td>NaN</td>\n",
       "      <td>...</td>\n",
       "      <td>NaN</td>\n",
       "      <td>NaN</td>\n",
       "      <td>NaN</td>\n",
       "      <td>NaN</td>\n",
       "      <td>NaN</td>\n",
       "      <td>NaN</td>\n",
       "      <td>NaN</td>\n",
       "      <td>NaN</td>\n",
       "      <td>NaN</td>\n",
       "      <td>NaN</td>\n",
       "    </tr>\n",
       "    <tr>\n",
       "      <th>2012-06-28</th>\n",
       "      <td>NaN</td>\n",
       "      <td>NaN</td>\n",
       "      <td>NaN</td>\n",
       "      <td>NaN</td>\n",
       "      <td>NaN</td>\n",
       "      <td>NaN</td>\n",
       "      <td>NaN</td>\n",
       "      <td>NaN</td>\n",
       "      <td>NaN</td>\n",
       "      <td>NaN</td>\n",
       "      <td>...</td>\n",
       "      <td>NaN</td>\n",
       "      <td>NaN</td>\n",
       "      <td>NaN</td>\n",
       "      <td>NaN</td>\n",
       "      <td>NaN</td>\n",
       "      <td>NaN</td>\n",
       "      <td>NaN</td>\n",
       "      <td>NaN</td>\n",
       "      <td>NaN</td>\n",
       "      <td>NaN</td>\n",
       "    </tr>\n",
       "    <tr>\n",
       "      <th>...</th>\n",
       "      <td>...</td>\n",
       "      <td>...</td>\n",
       "      <td>...</td>\n",
       "      <td>...</td>\n",
       "      <td>...</td>\n",
       "      <td>...</td>\n",
       "      <td>...</td>\n",
       "      <td>...</td>\n",
       "      <td>...</td>\n",
       "      <td>...</td>\n",
       "      <td>...</td>\n",
       "      <td>...</td>\n",
       "      <td>...</td>\n",
       "      <td>...</td>\n",
       "      <td>...</td>\n",
       "      <td>...</td>\n",
       "      <td>...</td>\n",
       "      <td>...</td>\n",
       "      <td>...</td>\n",
       "      <td>...</td>\n",
       "      <td>...</td>\n",
       "    </tr>\n",
       "    <tr>\n",
       "      <th>2022-08-18</th>\n",
       "      <td>NaN</td>\n",
       "      <td>NaN</td>\n",
       "      <td>NaN</td>\n",
       "      <td>NaN</td>\n",
       "      <td>NaN</td>\n",
       "      <td>NaN</td>\n",
       "      <td>NaN</td>\n",
       "      <td>NaN</td>\n",
       "      <td>NaN</td>\n",
       "      <td>NaN</td>\n",
       "      <td>...</td>\n",
       "      <td>NaN</td>\n",
       "      <td>NaN</td>\n",
       "      <td>NaN</td>\n",
       "      <td>NaN</td>\n",
       "      <td>NaN</td>\n",
       "      <td>NaN</td>\n",
       "      <td>NaN</td>\n",
       "      <td>NaN</td>\n",
       "      <td>NaN</td>\n",
       "      <td>NaN</td>\n",
       "    </tr>\n",
       "    <tr>\n",
       "      <th>2022-09-16</th>\n",
       "      <td>NaN</td>\n",
       "      <td>NaN</td>\n",
       "      <td>NaN</td>\n",
       "      <td>NaN</td>\n",
       "      <td>NaN</td>\n",
       "      <td>NaN</td>\n",
       "      <td>NaN</td>\n",
       "      <td>NaN</td>\n",
       "      <td>NaN</td>\n",
       "      <td>NaN</td>\n",
       "      <td>...</td>\n",
       "      <td>NaN</td>\n",
       "      <td>NaN</td>\n",
       "      <td>NaN</td>\n",
       "      <td>NaN</td>\n",
       "      <td>NaN</td>\n",
       "      <td>NaN</td>\n",
       "      <td>NaN</td>\n",
       "      <td>NaN</td>\n",
       "      <td>NaN</td>\n",
       "      <td>NaN</td>\n",
       "    </tr>\n",
       "    <tr>\n",
       "      <th>2022-10-17</th>\n",
       "      <td>NaN</td>\n",
       "      <td>NaN</td>\n",
       "      <td>NaN</td>\n",
       "      <td>NaN</td>\n",
       "      <td>NaN</td>\n",
       "      <td>NaN</td>\n",
       "      <td>NaN</td>\n",
       "      <td>NaN</td>\n",
       "      <td>NaN</td>\n",
       "      <td>NaN</td>\n",
       "      <td>...</td>\n",
       "      <td>NaN</td>\n",
       "      <td>NaN</td>\n",
       "      <td>NaN</td>\n",
       "      <td>NaN</td>\n",
       "      <td>NaN</td>\n",
       "      <td>NaN</td>\n",
       "      <td>NaN</td>\n",
       "      <td>NaN</td>\n",
       "      <td>NaN</td>\n",
       "      <td>NaN</td>\n",
       "    </tr>\n",
       "    <tr>\n",
       "      <th>2022-11-14</th>\n",
       "      <td>NaN</td>\n",
       "      <td>NaN</td>\n",
       "      <td>NaN</td>\n",
       "      <td>NaN</td>\n",
       "      <td>NaN</td>\n",
       "      <td>NaN</td>\n",
       "      <td>NaN</td>\n",
       "      <td>NaN</td>\n",
       "      <td>NaN</td>\n",
       "      <td>NaN</td>\n",
       "      <td>...</td>\n",
       "      <td>NaN</td>\n",
       "      <td>NaN</td>\n",
       "      <td>NaN</td>\n",
       "      <td>NaN</td>\n",
       "      <td>NaN</td>\n",
       "      <td>NaN</td>\n",
       "      <td>NaN</td>\n",
       "      <td>NaN</td>\n",
       "      <td>NaN</td>\n",
       "      <td>NaN</td>\n",
       "    </tr>\n",
       "    <tr>\n",
       "      <th>2022-12-12</th>\n",
       "      <td>NaN</td>\n",
       "      <td>NaN</td>\n",
       "      <td>NaN</td>\n",
       "      <td>NaN</td>\n",
       "      <td>NaN</td>\n",
       "      <td>NaN</td>\n",
       "      <td>NaN</td>\n",
       "      <td>NaN</td>\n",
       "      <td>NaN</td>\n",
       "      <td>NaN</td>\n",
       "      <td>...</td>\n",
       "      <td>NaN</td>\n",
       "      <td>NaN</td>\n",
       "      <td>NaN</td>\n",
       "      <td>NaN</td>\n",
       "      <td>NaN</td>\n",
       "      <td>NaN</td>\n",
       "      <td>NaN</td>\n",
       "      <td>NaN</td>\n",
       "      <td>NaN</td>\n",
       "      <td>NaN</td>\n",
       "    </tr>\n",
       "  </tbody>\n",
       "</table>\n",
       "<p>134 rows × 76 columns</p>\n",
       "</div>"
      ],
      "text/plain": [
       "           0001.HK 0002.HK 0003.HK 0005.HK 0006.HK 0011.HK 0012.HK 0016.HK  \\\n",
       "2012-03-01     NaN     NaN     NaN     NaN     NaN     NaN     NaN     NaN   \n",
       "2012-03-30     NaN     NaN     NaN     NaN     NaN     NaN     NaN     NaN   \n",
       "2012-05-03     NaN     NaN     NaN     NaN     NaN     NaN     NaN     NaN   \n",
       "2012-05-31     NaN     NaN     NaN     NaN     NaN     NaN     NaN     NaN   \n",
       "2012-06-28     NaN     NaN     NaN     NaN     NaN     NaN     NaN     NaN   \n",
       "...            ...     ...     ...     ...     ...     ...     ...     ...   \n",
       "2022-08-18     NaN     NaN     NaN     NaN     NaN     NaN     NaN     NaN   \n",
       "2022-09-16     NaN     NaN     NaN     NaN     NaN     NaN     NaN     NaN   \n",
       "2022-10-17     NaN     NaN     NaN     NaN     NaN     NaN     NaN     NaN   \n",
       "2022-11-14     NaN     NaN     NaN     NaN     NaN     NaN     NaN     NaN   \n",
       "2022-12-12     NaN     NaN     NaN     NaN     NaN     NaN     NaN     NaN   \n",
       "\n",
       "           0017.HK 0027.HK  ... 3968.HK 3988.HK 6098.HK 6690.HK 6862.HK  \\\n",
       "2012-03-01     NaN     NaN  ...     NaN     NaN     NaN     NaN     NaN   \n",
       "2012-03-30     NaN     NaN  ...     NaN     NaN     NaN     NaN     NaN   \n",
       "2012-05-03     NaN     NaN  ...     NaN     NaN     NaN     NaN     NaN   \n",
       "2012-05-31     NaN     NaN  ...     NaN     NaN     NaN     NaN     NaN   \n",
       "2012-06-28     NaN     NaN  ...     NaN     NaN     NaN     NaN     NaN   \n",
       "...            ...     ...  ...     ...     ...     ...     ...     ...   \n",
       "2022-08-18     NaN     NaN  ...     NaN     NaN     NaN     NaN     NaN   \n",
       "2022-09-16     NaN     NaN  ...     NaN     NaN     NaN     NaN     NaN   \n",
       "2022-10-17     NaN     NaN  ...     NaN     NaN     NaN     NaN     NaN   \n",
       "2022-11-14     NaN     NaN  ...     NaN     NaN     NaN     NaN     NaN   \n",
       "2022-12-12     NaN     NaN  ...     NaN     NaN     NaN     NaN     NaN   \n",
       "\n",
       "           9618.HK 9633.HK 9888.HK 9988.HK 9999.HK  \n",
       "2012-03-01     NaN     NaN     NaN     NaN     NaN  \n",
       "2012-03-30     NaN     NaN     NaN     NaN     NaN  \n",
       "2012-05-03     NaN     NaN     NaN     NaN     NaN  \n",
       "2012-05-31     NaN     NaN     NaN     NaN     NaN  \n",
       "2012-06-28     NaN     NaN     NaN     NaN     NaN  \n",
       "...            ...     ...     ...     ...     ...  \n",
       "2022-08-18     NaN     NaN     NaN     NaN     NaN  \n",
       "2022-09-16     NaN     NaN     NaN     NaN     NaN  \n",
       "2022-10-17     NaN     NaN     NaN     NaN     NaN  \n",
       "2022-11-14     NaN     NaN     NaN     NaN     NaN  \n",
       "2022-12-12     NaN     NaN     NaN     NaN     NaN  \n",
       "\n",
       "[134 rows x 76 columns]"
      ]
     },
     "execution_count": 15,
     "metadata": {},
     "output_type": "execute_result"
    }
   ],
   "source": [
    "true_price"
   ]
  },
  {
   "cell_type": "code",
   "execution_count": 16,
   "metadata": {},
   "outputs": [
    {
     "data": {
      "text/html": [
       "<div>\n",
       "<style scoped>\n",
       "    .dataframe tbody tr th:only-of-type {\n",
       "        vertical-align: middle;\n",
       "    }\n",
       "\n",
       "    .dataframe tbody tr th {\n",
       "        vertical-align: top;\n",
       "    }\n",
       "\n",
       "    .dataframe thead th {\n",
       "        text-align: right;\n",
       "    }\n",
       "</style>\n",
       "<table border=\"1\" class=\"dataframe\">\n",
       "  <thead>\n",
       "    <tr style=\"text-align: right;\">\n",
       "      <th></th>\n",
       "      <th>0001.HK</th>\n",
       "      <th>0002.HK</th>\n",
       "      <th>0003.HK</th>\n",
       "      <th>0005.HK</th>\n",
       "      <th>0006.HK</th>\n",
       "      <th>0011.HK</th>\n",
       "      <th>0012.HK</th>\n",
       "      <th>0016.HK</th>\n",
       "      <th>0017.HK</th>\n",
       "      <th>0027.HK</th>\n",
       "      <th>...</th>\n",
       "      <th>3968.HK</th>\n",
       "      <th>3988.HK</th>\n",
       "      <th>6098.HK</th>\n",
       "      <th>6690.HK</th>\n",
       "      <th>6862.HK</th>\n",
       "      <th>9618.HK</th>\n",
       "      <th>9633.HK</th>\n",
       "      <th>9888.HK</th>\n",
       "      <th>9988.HK</th>\n",
       "      <th>9999.HK</th>\n",
       "    </tr>\n",
       "  </thead>\n",
       "  <tbody>\n",
       "    <tr>\n",
       "      <th>2012-03-01</th>\n",
       "      <td>NaN</td>\n",
       "      <td>NaN</td>\n",
       "      <td>NaN</td>\n",
       "      <td>NaN</td>\n",
       "      <td>NaN</td>\n",
       "      <td>NaN</td>\n",
       "      <td>NaN</td>\n",
       "      <td>NaN</td>\n",
       "      <td>NaN</td>\n",
       "      <td>NaN</td>\n",
       "      <td>...</td>\n",
       "      <td>NaN</td>\n",
       "      <td>NaN</td>\n",
       "      <td>NaN</td>\n",
       "      <td>NaN</td>\n",
       "      <td>NaN</td>\n",
       "      <td>NaN</td>\n",
       "      <td>NaN</td>\n",
       "      <td>NaN</td>\n",
       "      <td>NaN</td>\n",
       "      <td>NaN</td>\n",
       "    </tr>\n",
       "    <tr>\n",
       "      <th>2012-03-30</th>\n",
       "      <td>NaN</td>\n",
       "      <td>NaN</td>\n",
       "      <td>NaN</td>\n",
       "      <td>NaN</td>\n",
       "      <td>NaN</td>\n",
       "      <td>NaN</td>\n",
       "      <td>NaN</td>\n",
       "      <td>NaN</td>\n",
       "      <td>NaN</td>\n",
       "      <td>NaN</td>\n",
       "      <td>...</td>\n",
       "      <td>NaN</td>\n",
       "      <td>NaN</td>\n",
       "      <td>NaN</td>\n",
       "      <td>NaN</td>\n",
       "      <td>NaN</td>\n",
       "      <td>NaN</td>\n",
       "      <td>NaN</td>\n",
       "      <td>NaN</td>\n",
       "      <td>NaN</td>\n",
       "      <td>NaN</td>\n",
       "    </tr>\n",
       "    <tr>\n",
       "      <th>2012-05-03</th>\n",
       "      <td>NaN</td>\n",
       "      <td>NaN</td>\n",
       "      <td>NaN</td>\n",
       "      <td>NaN</td>\n",
       "      <td>NaN</td>\n",
       "      <td>NaN</td>\n",
       "      <td>NaN</td>\n",
       "      <td>NaN</td>\n",
       "      <td>NaN</td>\n",
       "      <td>NaN</td>\n",
       "      <td>...</td>\n",
       "      <td>NaN</td>\n",
       "      <td>NaN</td>\n",
       "      <td>NaN</td>\n",
       "      <td>NaN</td>\n",
       "      <td>NaN</td>\n",
       "      <td>NaN</td>\n",
       "      <td>NaN</td>\n",
       "      <td>NaN</td>\n",
       "      <td>NaN</td>\n",
       "      <td>NaN</td>\n",
       "    </tr>\n",
       "    <tr>\n",
       "      <th>2012-05-31</th>\n",
       "      <td>NaN</td>\n",
       "      <td>NaN</td>\n",
       "      <td>NaN</td>\n",
       "      <td>NaN</td>\n",
       "      <td>NaN</td>\n",
       "      <td>NaN</td>\n",
       "      <td>NaN</td>\n",
       "      <td>NaN</td>\n",
       "      <td>NaN</td>\n",
       "      <td>NaN</td>\n",
       "      <td>...</td>\n",
       "      <td>NaN</td>\n",
       "      <td>NaN</td>\n",
       "      <td>NaN</td>\n",
       "      <td>NaN</td>\n",
       "      <td>NaN</td>\n",
       "      <td>NaN</td>\n",
       "      <td>NaN</td>\n",
       "      <td>NaN</td>\n",
       "      <td>NaN</td>\n",
       "      <td>NaN</td>\n",
       "    </tr>\n",
       "    <tr>\n",
       "      <th>2012-06-28</th>\n",
       "      <td>NaN</td>\n",
       "      <td>NaN</td>\n",
       "      <td>NaN</td>\n",
       "      <td>NaN</td>\n",
       "      <td>NaN</td>\n",
       "      <td>NaN</td>\n",
       "      <td>NaN</td>\n",
       "      <td>NaN</td>\n",
       "      <td>NaN</td>\n",
       "      <td>NaN</td>\n",
       "      <td>...</td>\n",
       "      <td>NaN</td>\n",
       "      <td>NaN</td>\n",
       "      <td>NaN</td>\n",
       "      <td>NaN</td>\n",
       "      <td>NaN</td>\n",
       "      <td>NaN</td>\n",
       "      <td>NaN</td>\n",
       "      <td>NaN</td>\n",
       "      <td>NaN</td>\n",
       "      <td>NaN</td>\n",
       "    </tr>\n",
       "    <tr>\n",
       "      <th>...</th>\n",
       "      <td>...</td>\n",
       "      <td>...</td>\n",
       "      <td>...</td>\n",
       "      <td>...</td>\n",
       "      <td>...</td>\n",
       "      <td>...</td>\n",
       "      <td>...</td>\n",
       "      <td>...</td>\n",
       "      <td>...</td>\n",
       "      <td>...</td>\n",
       "      <td>...</td>\n",
       "      <td>...</td>\n",
       "      <td>...</td>\n",
       "      <td>...</td>\n",
       "      <td>...</td>\n",
       "      <td>...</td>\n",
       "      <td>...</td>\n",
       "      <td>...</td>\n",
       "      <td>...</td>\n",
       "      <td>...</td>\n",
       "      <td>...</td>\n",
       "    </tr>\n",
       "    <tr>\n",
       "      <th>2022-07-21</th>\n",
       "      <td>NaN</td>\n",
       "      <td>NaN</td>\n",
       "      <td>NaN</td>\n",
       "      <td>NaN</td>\n",
       "      <td>NaN</td>\n",
       "      <td>NaN</td>\n",
       "      <td>NaN</td>\n",
       "      <td>NaN</td>\n",
       "      <td>NaN</td>\n",
       "      <td>NaN</td>\n",
       "      <td>...</td>\n",
       "      <td>NaN</td>\n",
       "      <td>NaN</td>\n",
       "      <td>NaN</td>\n",
       "      <td>NaN</td>\n",
       "      <td>NaN</td>\n",
       "      <td>NaN</td>\n",
       "      <td>NaN</td>\n",
       "      <td>NaN</td>\n",
       "      <td>NaN</td>\n",
       "      <td>NaN</td>\n",
       "    </tr>\n",
       "    <tr>\n",
       "      <th>2022-08-18</th>\n",
       "      <td>NaN</td>\n",
       "      <td>NaN</td>\n",
       "      <td>NaN</td>\n",
       "      <td>NaN</td>\n",
       "      <td>NaN</td>\n",
       "      <td>NaN</td>\n",
       "      <td>NaN</td>\n",
       "      <td>NaN</td>\n",
       "      <td>NaN</td>\n",
       "      <td>NaN</td>\n",
       "      <td>...</td>\n",
       "      <td>NaN</td>\n",
       "      <td>NaN</td>\n",
       "      <td>NaN</td>\n",
       "      <td>NaN</td>\n",
       "      <td>NaN</td>\n",
       "      <td>NaN</td>\n",
       "      <td>NaN</td>\n",
       "      <td>NaN</td>\n",
       "      <td>NaN</td>\n",
       "      <td>NaN</td>\n",
       "    </tr>\n",
       "    <tr>\n",
       "      <th>2022-09-16</th>\n",
       "      <td>NaN</td>\n",
       "      <td>NaN</td>\n",
       "      <td>NaN</td>\n",
       "      <td>NaN</td>\n",
       "      <td>NaN</td>\n",
       "      <td>NaN</td>\n",
       "      <td>NaN</td>\n",
       "      <td>NaN</td>\n",
       "      <td>NaN</td>\n",
       "      <td>NaN</td>\n",
       "      <td>...</td>\n",
       "      <td>NaN</td>\n",
       "      <td>NaN</td>\n",
       "      <td>NaN</td>\n",
       "      <td>NaN</td>\n",
       "      <td>NaN</td>\n",
       "      <td>NaN</td>\n",
       "      <td>NaN</td>\n",
       "      <td>NaN</td>\n",
       "      <td>NaN</td>\n",
       "      <td>NaN</td>\n",
       "    </tr>\n",
       "    <tr>\n",
       "      <th>2022-10-17</th>\n",
       "      <td>NaN</td>\n",
       "      <td>NaN</td>\n",
       "      <td>NaN</td>\n",
       "      <td>NaN</td>\n",
       "      <td>NaN</td>\n",
       "      <td>NaN</td>\n",
       "      <td>NaN</td>\n",
       "      <td>NaN</td>\n",
       "      <td>NaN</td>\n",
       "      <td>NaN</td>\n",
       "      <td>...</td>\n",
       "      <td>NaN</td>\n",
       "      <td>NaN</td>\n",
       "      <td>NaN</td>\n",
       "      <td>NaN</td>\n",
       "      <td>NaN</td>\n",
       "      <td>NaN</td>\n",
       "      <td>NaN</td>\n",
       "      <td>NaN</td>\n",
       "      <td>NaN</td>\n",
       "      <td>NaN</td>\n",
       "    </tr>\n",
       "    <tr>\n",
       "      <th>2022-11-14</th>\n",
       "      <td>NaN</td>\n",
       "      <td>NaN</td>\n",
       "      <td>NaN</td>\n",
       "      <td>NaN</td>\n",
       "      <td>NaN</td>\n",
       "      <td>NaN</td>\n",
       "      <td>NaN</td>\n",
       "      <td>NaN</td>\n",
       "      <td>NaN</td>\n",
       "      <td>NaN</td>\n",
       "      <td>...</td>\n",
       "      <td>NaN</td>\n",
       "      <td>NaN</td>\n",
       "      <td>NaN</td>\n",
       "      <td>NaN</td>\n",
       "      <td>NaN</td>\n",
       "      <td>NaN</td>\n",
       "      <td>NaN</td>\n",
       "      <td>NaN</td>\n",
       "      <td>NaN</td>\n",
       "      <td>NaN</td>\n",
       "    </tr>\n",
       "  </tbody>\n",
       "</table>\n",
       "<p>133 rows × 76 columns</p>\n",
       "</div>"
      ],
      "text/plain": [
       "           0001.HK 0002.HK 0003.HK 0005.HK 0006.HK 0011.HK 0012.HK 0016.HK  \\\n",
       "2012-03-01     NaN     NaN     NaN     NaN     NaN     NaN     NaN     NaN   \n",
       "2012-03-30     NaN     NaN     NaN     NaN     NaN     NaN     NaN     NaN   \n",
       "2012-05-03     NaN     NaN     NaN     NaN     NaN     NaN     NaN     NaN   \n",
       "2012-05-31     NaN     NaN     NaN     NaN     NaN     NaN     NaN     NaN   \n",
       "2012-06-28     NaN     NaN     NaN     NaN     NaN     NaN     NaN     NaN   \n",
       "...            ...     ...     ...     ...     ...     ...     ...     ...   \n",
       "2022-07-21     NaN     NaN     NaN     NaN     NaN     NaN     NaN     NaN   \n",
       "2022-08-18     NaN     NaN     NaN     NaN     NaN     NaN     NaN     NaN   \n",
       "2022-09-16     NaN     NaN     NaN     NaN     NaN     NaN     NaN     NaN   \n",
       "2022-10-17     NaN     NaN     NaN     NaN     NaN     NaN     NaN     NaN   \n",
       "2022-11-14     NaN     NaN     NaN     NaN     NaN     NaN     NaN     NaN   \n",
       "\n",
       "           0017.HK 0027.HK  ... 3968.HK 3988.HK 6098.HK 6690.HK 6862.HK  \\\n",
       "2012-03-01     NaN     NaN  ...     NaN     NaN     NaN     NaN     NaN   \n",
       "2012-03-30     NaN     NaN  ...     NaN     NaN     NaN     NaN     NaN   \n",
       "2012-05-03     NaN     NaN  ...     NaN     NaN     NaN     NaN     NaN   \n",
       "2012-05-31     NaN     NaN  ...     NaN     NaN     NaN     NaN     NaN   \n",
       "2012-06-28     NaN     NaN  ...     NaN     NaN     NaN     NaN     NaN   \n",
       "...            ...     ...  ...     ...     ...     ...     ...     ...   \n",
       "2022-07-21     NaN     NaN  ...     NaN     NaN     NaN     NaN     NaN   \n",
       "2022-08-18     NaN     NaN  ...     NaN     NaN     NaN     NaN     NaN   \n",
       "2022-09-16     NaN     NaN  ...     NaN     NaN     NaN     NaN     NaN   \n",
       "2022-10-17     NaN     NaN  ...     NaN     NaN     NaN     NaN     NaN   \n",
       "2022-11-14     NaN     NaN  ...     NaN     NaN     NaN     NaN     NaN   \n",
       "\n",
       "           9618.HK 9633.HK 9888.HK 9988.HK 9999.HK  \n",
       "2012-03-01     NaN     NaN     NaN     NaN     NaN  \n",
       "2012-03-30     NaN     NaN     NaN     NaN     NaN  \n",
       "2012-05-03     NaN     NaN     NaN     NaN     NaN  \n",
       "2012-05-31     NaN     NaN     NaN     NaN     NaN  \n",
       "2012-06-28     NaN     NaN     NaN     NaN     NaN  \n",
       "...            ...     ...     ...     ...     ...  \n",
       "2022-07-21     NaN     NaN     NaN     NaN     NaN  \n",
       "2022-08-18     NaN     NaN     NaN     NaN     NaN  \n",
       "2022-09-16     NaN     NaN     NaN     NaN     NaN  \n",
       "2022-10-17     NaN     NaN     NaN     NaN     NaN  \n",
       "2022-11-14     NaN     NaN     NaN     NaN     NaN  \n",
       "\n",
       "[133 rows x 76 columns]"
      ]
     },
     "execution_count": 16,
     "metadata": {},
     "output_type": "execute_result"
    }
   ],
   "source": [
    "pred_prob"
   ]
  },
  {
   "cell_type": "code",
   "execution_count": 17,
   "metadata": {
    "colab": {
     "base_uri": "https://localhost:8080/",
     "height": 492
    },
    "id": "iBTOCJxxo1zo",
    "outputId": "f669bd9e-fd0e-41e1-df62-f55fb822c45f"
   },
   "outputs": [
    {
     "name": "stdout",
     "output_type": "stream",
     "text": [
      "[*********************100%***********************]  1 of 1 completed\n"
     ]
    },
    {
     "name": "stderr",
     "output_type": "stream",
     "text": [
      "100%|██████████| 133/133 [00:11<00:00, 11.09it/s]\n"
     ]
    },
    {
     "name": "stdout",
     "output_type": "stream",
     "text": [
      "0 : 0001.HK\n",
      "[*********************100%***********************]  1 of 1 completed\n"
     ]
    },
    {
     "name": "stderr",
     "output_type": "stream",
     "text": [
      "100%|██████████| 133/133 [00:00<00:00, 644.94it/s]\n"
     ]
    },
    {
     "name": "stdout",
     "output_type": "stream",
     "text": [
      "1 : 0002.HK\n",
      "[*********************100%***********************]  1 of 1 completed\n"
     ]
    },
    {
     "name": "stderr",
     "output_type": "stream",
     "text": [
      "100%|██████████| 133/133 [00:00<00:00, 728.78it/s]\n"
     ]
    },
    {
     "name": "stdout",
     "output_type": "stream",
     "text": [
      "2 : 0003.HK\n",
      "[*********************100%***********************]  1 of 1 completed\n"
     ]
    },
    {
     "name": "stderr",
     "output_type": "stream",
     "text": [
      "100%|██████████| 133/133 [00:00<00:00, 730.30it/s]\n"
     ]
    },
    {
     "name": "stdout",
     "output_type": "stream",
     "text": [
      "3 : 0005.HK\n",
      "[*********************100%***********************]  1 of 1 completed\n"
     ]
    },
    {
     "name": "stderr",
     "output_type": "stream",
     "text": [
      "100%|██████████| 133/133 [00:00<00:00, 596.08it/s]\n"
     ]
    },
    {
     "name": "stdout",
     "output_type": "stream",
     "text": [
      "4 : 0006.HK\n",
      "[*********************100%***********************]  1 of 1 completed\n"
     ]
    },
    {
     "name": "stderr",
     "output_type": "stream",
     "text": [
      "100%|██████████| 133/133 [00:00<00:00, 709.56it/s]\n"
     ]
    },
    {
     "name": "stdout",
     "output_type": "stream",
     "text": [
      "5 : 0011.HK\n",
      "[*********************100%***********************]  1 of 1 completed\n"
     ]
    },
    {
     "name": "stderr",
     "output_type": "stream",
     "text": [
      "100%|██████████| 133/133 [00:00<00:00, 676.63it/s]\n"
     ]
    },
    {
     "name": "stdout",
     "output_type": "stream",
     "text": [
      "6 : 0012.HK\n",
      "[*********************100%***********************]  1 of 1 completed\n"
     ]
    },
    {
     "name": "stderr",
     "output_type": "stream",
     "text": [
      "100%|██████████| 133/133 [00:00<00:00, 699.35it/s]\n"
     ]
    },
    {
     "name": "stdout",
     "output_type": "stream",
     "text": [
      "7 : 0016.HK\n",
      "[*********************100%***********************]  1 of 1 completed\n"
     ]
    },
    {
     "name": "stderr",
     "output_type": "stream",
     "text": [
      "100%|██████████| 133/133 [00:00<00:00, 606.35it/s]\n"
     ]
    },
    {
     "name": "stdout",
     "output_type": "stream",
     "text": [
      "8 : 0017.HK\n",
      "[*********************100%***********************]  1 of 1 completed\n"
     ]
    },
    {
     "name": "stderr",
     "output_type": "stream",
     "text": [
      "100%|██████████| 133/133 [00:00<00:00, 706.64it/s]\n"
     ]
    },
    {
     "name": "stdout",
     "output_type": "stream",
     "text": [
      "9 : 0027.HK\n",
      "[*********************100%***********************]  1 of 1 completed\n"
     ]
    },
    {
     "name": "stderr",
     "output_type": "stream",
     "text": [
      "100%|██████████| 133/133 [00:00<00:00, 607.97it/s]\n"
     ]
    },
    {
     "name": "stdout",
     "output_type": "stream",
     "text": [
      "10 : 0066.HK\n",
      "[*********************100%***********************]  1 of 1 completed\n"
     ]
    },
    {
     "name": "stderr",
     "output_type": "stream",
     "text": [
      "100%|██████████| 133/133 [00:00<00:00, 610.83it/s]\n"
     ]
    },
    {
     "name": "stdout",
     "output_type": "stream",
     "text": [
      "11 : 0101.HK\n",
      "[*********************100%***********************]  1 of 1 completed\n"
     ]
    },
    {
     "name": "stderr",
     "output_type": "stream",
     "text": [
      "100%|██████████| 133/133 [00:00<00:00, 613.85it/s]\n"
     ]
    },
    {
     "name": "stdout",
     "output_type": "stream",
     "text": [
      "12 : 0175.HK\n",
      "[*********************100%***********************]  1 of 1 completed\n"
     ]
    },
    {
     "name": "stderr",
     "output_type": "stream",
     "text": [
      "100%|██████████| 133/133 [00:00<00:00, 608.13it/s]\n"
     ]
    },
    {
     "name": "stdout",
     "output_type": "stream",
     "text": [
      "13 : 0241.HK\n",
      "[*********************100%***********************]  1 of 1 completed\n"
     ]
    },
    {
     "name": "stderr",
     "output_type": "stream",
     "text": [
      "100%|██████████| 133/133 [00:00<00:00, 617.61it/s]\n"
     ]
    },
    {
     "name": "stdout",
     "output_type": "stream",
     "text": [
      "14 : 0267.HK\n",
      "[*********************100%***********************]  1 of 1 completed\n"
     ]
    },
    {
     "name": "stderr",
     "output_type": "stream",
     "text": [
      "100%|██████████| 101/101 [00:00<00:00, 691.58it/s]\n"
     ]
    },
    {
     "name": "stdout",
     "output_type": "stream",
     "text": [
      "15 : 0288.HK\n",
      "[*********************100%***********************]  1 of 1 completed\n"
     ]
    },
    {
     "name": "stderr",
     "output_type": "stream",
     "text": [
      "100%|██████████| 133/133 [00:00<00:00, 633.67it/s]\n"
     ]
    },
    {
     "name": "stdout",
     "output_type": "stream",
     "text": [
      "16 : 0291.HK\n",
      "[*********************100%***********************]  1 of 1 completed\n"
     ]
    },
    {
     "name": "stderr",
     "output_type": "stream",
     "text": [
      "100%|██████████| 133/133 [00:00<00:00, 696.87it/s]\n"
     ]
    },
    {
     "name": "stdout",
     "output_type": "stream",
     "text": [
      "17 : 0316.HK\n",
      "[*********************100%***********************]  1 of 1 completed\n"
     ]
    },
    {
     "name": "stderr",
     "output_type": "stream",
     "text": [
      "100%|██████████| 133/133 [00:00<00:00, 714.41it/s]\n"
     ]
    },
    {
     "name": "stdout",
     "output_type": "stream",
     "text": [
      "18 : 0322.HK\n",
      "[*********************100%***********************]  1 of 1 completed\n"
     ]
    },
    {
     "name": "stderr",
     "output_type": "stream",
     "text": [
      "100%|██████████| 133/133 [00:00<00:00, 621.92it/s]\n"
     ]
    },
    {
     "name": "stdout",
     "output_type": "stream",
     "text": [
      "19 : 0386.HK\n",
      "[*********************100%***********************]  1 of 1 completed\n"
     ]
    },
    {
     "name": "stderr",
     "output_type": "stream",
     "text": [
      "100%|██████████| 133/133 [00:00<00:00, 721.80it/s]\n"
     ]
    },
    {
     "name": "stdout",
     "output_type": "stream",
     "text": [
      "20 : 0388.HK\n",
      "[*********************100%***********************]  1 of 1 completed\n"
     ]
    },
    {
     "name": "stderr",
     "output_type": "stream",
     "text": [
      "100%|██████████| 133/133 [00:00<00:00, 726.38it/s]\n"
     ]
    },
    {
     "name": "stdout",
     "output_type": "stream",
     "text": [
      "21 : 0669.HK\n",
      "[*********************100%***********************]  1 of 1 completed\n"
     ]
    },
    {
     "name": "stderr",
     "output_type": "stream",
     "text": [
      "100%|██████████| 133/133 [00:00<00:00, 725.89it/s]\n"
     ]
    },
    {
     "name": "stdout",
     "output_type": "stream",
     "text": [
      "22 : 0688.HK\n",
      "[*********************100%***********************]  1 of 1 completed\n"
     ]
    },
    {
     "name": "stderr",
     "output_type": "stream",
     "text": [
      "100%|██████████| 133/133 [00:00<00:00, 609.60it/s]\n"
     ]
    },
    {
     "name": "stdout",
     "output_type": "stream",
     "text": [
      "23 : 0700.HK\n",
      "[*********************100%***********************]  1 of 1 completed\n"
     ]
    },
    {
     "name": "stderr",
     "output_type": "stream",
     "text": [
      "100%|██████████| 133/133 [00:00<00:00, 723.61it/s]\n"
     ]
    },
    {
     "name": "stdout",
     "output_type": "stream",
     "text": [
      "24 : 0762.HK\n",
      "[*********************100%***********************]  1 of 1 completed\n"
     ]
    },
    {
     "name": "stderr",
     "output_type": "stream",
     "text": [
      "100%|██████████| 133/133 [00:00<00:00, 580.96it/s]\n"
     ]
    },
    {
     "name": "stdout",
     "output_type": "stream",
     "text": [
      "25 : 0823.HK\n",
      "[*********************100%***********************]  1 of 1 completed\n"
     ]
    },
    {
     "name": "stderr",
     "output_type": "stream",
     "text": [
      "100%|██████████| 133/133 [00:00<00:00, 731.36it/s]\n"
     ]
    },
    {
     "name": "stdout",
     "output_type": "stream",
     "text": [
      "26 : 0857.HK\n",
      "[*********************100%***********************]  1 of 1 completed\n"
     ]
    },
    {
     "name": "stderr",
     "output_type": "stream",
     "text": [
      "100%|██████████| 133/133 [00:00<00:00, 732.24it/s]\n"
     ]
    },
    {
     "name": "stdout",
     "output_type": "stream",
     "text": [
      "27 : 0868.HK\n",
      "[*********************100%***********************]  1 of 1 completed\n"
     ]
    },
    {
     "name": "stderr",
     "output_type": "stream",
     "text": [
      "100%|██████████| 133/133 [00:00<00:00, 732.16it/s]\n"
     ]
    },
    {
     "name": "stdout",
     "output_type": "stream",
     "text": [
      "28 : 0881.HK\n",
      "[*********************100%***********************]  1 of 1 completed\n"
     ]
    },
    {
     "name": "stderr",
     "output_type": "stream",
     "text": [
      "100%|██████████| 133/133 [00:00<00:00, 625.72it/s]\n"
     ]
    },
    {
     "name": "stdout",
     "output_type": "stream",
     "text": [
      "29 : 0883.HK\n",
      "[*********************100%***********************]  1 of 1 completed\n"
     ]
    },
    {
     "name": "stderr",
     "output_type": "stream",
     "text": [
      "100%|██████████| 133/133 [00:00<00:00, 718.11it/s]\n"
     ]
    },
    {
     "name": "stdout",
     "output_type": "stream",
     "text": [
      "30 : 0939.HK\n",
      "[*********************100%***********************]  1 of 1 completed\n"
     ]
    },
    {
     "name": "stderr",
     "output_type": "stream",
     "text": [
      "100%|██████████| 133/133 [00:00<00:00, 724.67it/s]\n"
     ]
    },
    {
     "name": "stdout",
     "output_type": "stream",
     "text": [
      "31 : 0941.HK\n",
      "[*********************100%***********************]  1 of 1 completed\n"
     ]
    },
    {
     "name": "stderr",
     "output_type": "stream",
     "text": [
      "100%|██████████| 133/133 [00:00<00:00, 736.21it/s]\n"
     ]
    },
    {
     "name": "stdout",
     "output_type": "stream",
     "text": [
      "32 : 0960.HK\n",
      "[*********************100%***********************]  1 of 1 completed\n"
     ]
    },
    {
     "name": "stderr",
     "output_type": "stream",
     "text": [
      "100%|██████████| 109/109 [00:00<00:00, 698.33it/s]\n"
     ]
    },
    {
     "name": "stdout",
     "output_type": "stream",
     "text": [
      "33 : 0968.HK\n",
      "[*********************100%***********************]  1 of 1 completed\n"
     ]
    },
    {
     "name": "stderr",
     "output_type": "stream",
     "text": [
      "100%|██████████| 133/133 [00:00<00:00, 647.80it/s]\n"
     ]
    },
    {
     "name": "stdout",
     "output_type": "stream",
     "text": [
      "34 : 0981.HK\n",
      "[*********************100%***********************]  1 of 1 completed\n"
     ]
    },
    {
     "name": "stderr",
     "output_type": "stream",
     "text": [
      "100%|██████████| 133/133 [00:00<00:00, 732.36it/s]\n"
     ]
    },
    {
     "name": "stdout",
     "output_type": "stream",
     "text": [
      "35 : 0992.HK\n",
      "[*********************100%***********************]  1 of 1 completed\n"
     ]
    },
    {
     "name": "stderr",
     "output_type": "stream",
     "text": [
      "100%|██████████| 133/133 [00:00<00:00, 721.30it/s]\n"
     ]
    },
    {
     "name": "stdout",
     "output_type": "stream",
     "text": [
      "36 : 1038.HK\n",
      "[*********************100%***********************]  1 of 1 completed\n"
     ]
    },
    {
     "name": "stderr",
     "output_type": "stream",
     "text": [
      "100%|██████████| 133/133 [00:00<00:00, 653.54it/s]\n"
     ]
    },
    {
     "name": "stdout",
     "output_type": "stream",
     "text": [
      "37 : 1044.HK\n",
      "[*********************100%***********************]  1 of 1 completed\n"
     ]
    },
    {
     "name": "stderr",
     "output_type": "stream",
     "text": [
      "100%|██████████| 133/133 [00:00<00:00, 663.27it/s]\n"
     ]
    },
    {
     "name": "stdout",
     "output_type": "stream",
     "text": [
      "38 : 1088.HK\n",
      "[*********************100%***********************]  1 of 1 completed\n"
     ]
    },
    {
     "name": "stderr",
     "output_type": "stream",
     "text": [
      "100%|██████████| 133/133 [00:00<00:00, 626.81it/s]\n"
     ]
    },
    {
     "name": "stdout",
     "output_type": "stream",
     "text": [
      "39 : 1093.HK\n",
      "[*********************100%***********************]  1 of 1 completed\n"
     ]
    },
    {
     "name": "stderr",
     "output_type": "stream",
     "text": [
      "100%|██████████| 133/133 [00:00<00:00, 648.91it/s]\n"
     ]
    },
    {
     "name": "stdout",
     "output_type": "stream",
     "text": [
      "40 : 1109.HK\n",
      "[*********************100%***********************]  1 of 1 completed\n"
     ]
    },
    {
     "name": "stderr",
     "output_type": "stream",
     "text": [
      "100%|██████████| 91/91 [00:00<00:00, 582.48it/s]\n"
     ]
    },
    {
     "name": "stdout",
     "output_type": "stream",
     "text": [
      "41 : 1113.HK\n",
      "[*********************100%***********************]  1 of 1 completed\n"
     ]
    },
    {
     "name": "stderr",
     "output_type": "stream",
     "text": [
      "100%|██████████| 133/133 [00:00<00:00, 625.00it/s]\n"
     ]
    },
    {
     "name": "stdout",
     "output_type": "stream",
     "text": [
      "42 : 1177.HK\n",
      "[*********************100%***********************]  1 of 1 completed\n"
     ]
    },
    {
     "name": "stderr",
     "output_type": "stream",
     "text": [
      "100%|██████████| 22/22 [00:00<00:00, 608.36it/s]\n"
     ]
    },
    {
     "name": "stdout",
     "output_type": "stream",
     "text": [
      "43 : 1209.HK\n",
      "[*********************100%***********************]  1 of 1 completed\n"
     ]
    },
    {
     "name": "stderr",
     "output_type": "stream",
     "text": [
      "100%|██████████| 133/133 [00:00<00:00, 626.94it/s]\n"
     ]
    },
    {
     "name": "stdout",
     "output_type": "stream",
     "text": [
      "44 : 1211.HK\n",
      "[*********************100%***********************]  1 of 1 completed\n"
     ]
    },
    {
     "name": "stderr",
     "output_type": "stream",
     "text": [
      "100%|██████████| 133/133 [00:00<00:00, 681.16it/s]\n"
     ]
    },
    {
     "name": "stdout",
     "output_type": "stream",
     "text": [
      "45 : 1299.HK\n",
      "[*********************100%***********************]  1 of 1 completed\n"
     ]
    },
    {
     "name": "stderr",
     "output_type": "stream",
     "text": [
      "100%|██████████| 133/133 [00:00<00:00, 597.80it/s]\n"
     ]
    },
    {
     "name": "stdout",
     "output_type": "stream",
     "text": [
      "46 : 1378.HK\n",
      "[*********************100%***********************]  1 of 1 completed\n"
     ]
    },
    {
     "name": "stderr",
     "output_type": "stream",
     "text": [
      "100%|██████████| 133/133 [00:00<00:00, 707.83it/s]\n"
     ]
    },
    {
     "name": "stdout",
     "output_type": "stream",
     "text": [
      "47 : 1398.HK\n",
      "[*********************100%***********************]  1 of 1 completed\n"
     ]
    },
    {
     "name": "stderr",
     "output_type": "stream",
     "text": [
      "100%|██████████| 52/52 [00:00<00:00, 693.26it/s]\n"
     ]
    },
    {
     "name": "stdout",
     "output_type": "stream",
     "text": [
      "48 : 1810.HK\n",
      "[*********************100%***********************]  1 of 1 completed\n"
     ]
    },
    {
     "name": "stderr",
     "output_type": "stream",
     "text": [
      "100%|██████████| 37/37 [00:00<00:00, 663.25it/s]\n"
     ]
    },
    {
     "name": "stdout",
     "output_type": "stream",
     "text": [
      "49 : 1876.HK\n",
      "[*********************100%***********************]  1 of 1 completed\n"
     ]
    },
    {
     "name": "stderr",
     "output_type": "stream",
     "text": [
      "100%|██████████| 133/133 [00:00<00:00, 619.30it/s]\n"
     ]
    },
    {
     "name": "stdout",
     "output_type": "stream",
     "text": [
      "50 : 1928.HK\n",
      "[*********************100%***********************]  1 of 1 completed\n"
     ]
    },
    {
     "name": "stderr",
     "output_type": "stream",
     "text": [
      "100%|██████████| 133/133 [00:00<00:00, 704.59it/s]\n"
     ]
    },
    {
     "name": "stdout",
     "output_type": "stream",
     "text": [
      "51 : 1929.HK\n",
      "[*********************100%***********************]  1 of 1 completed\n"
     ]
    },
    {
     "name": "stderr",
     "output_type": "stream",
     "text": [
      "100%|██████████| 60/60 [00:00<00:00, 625.48it/s]\n"
     ]
    },
    {
     "name": "stdout",
     "output_type": "stream",
     "text": [
      "52 : 1997.HK\n",
      "[*********************100%***********************]  1 of 1 completed\n"
     ]
    },
    {
     "name": "stderr",
     "output_type": "stream",
     "text": [
      "100%|██████████| 133/133 [00:00<00:00, 651.72it/s]\n"
     ]
    },
    {
     "name": "stdout",
     "output_type": "stream",
     "text": [
      "53 : 2007.HK\n",
      "[*********************100%***********************]  1 of 1 completed\n"
     ]
    },
    {
     "name": "stderr",
     "output_type": "stream",
     "text": [
      "100%|██████████| 133/133 [00:00<00:00, 711.18it/s]\n"
     ]
    },
    {
     "name": "stdout",
     "output_type": "stream",
     "text": [
      "54 : 2020.HK\n",
      "[*********************100%***********************]  1 of 1 completed\n"
     ]
    },
    {
     "name": "stderr",
     "output_type": "stream",
     "text": [
      "100%|██████████| 66/66 [00:00<00:00, 689.20it/s]\n"
     ]
    },
    {
     "name": "stdout",
     "output_type": "stream",
     "text": [
      "55 : 2269.HK\n",
      "[*********************100%***********************]  1 of 1 completed\n"
     ]
    },
    {
     "name": "stderr",
     "output_type": "stream",
     "text": [
      "100%|██████████| 133/133 [00:00<00:00, 692.89it/s]\n"
     ]
    },
    {
     "name": "stdout",
     "output_type": "stream",
     "text": [
      "56 : 2313.HK\n",
      "[*********************100%***********************]  1 of 1 completed\n"
     ]
    },
    {
     "name": "stderr",
     "output_type": "stream",
     "text": [
      "100%|██████████| 133/133 [00:00<00:00, 702.41it/s]\n"
     ]
    },
    {
     "name": "stdout",
     "output_type": "stream",
     "text": [
      "57 : 2318.HK\n",
      "[*********************100%***********************]  1 of 1 completed\n"
     ]
    },
    {
     "name": "stderr",
     "output_type": "stream",
     "text": [
      "100%|██████████| 133/133 [00:00<00:00, 631.82it/s]\n"
     ]
    },
    {
     "name": "stdout",
     "output_type": "stream",
     "text": [
      "58 : 2319.HK\n",
      "[*********************100%***********************]  1 of 1 completed\n"
     ]
    },
    {
     "name": "stderr",
     "output_type": "stream",
     "text": [
      "100%|██████████| 133/133 [00:00<00:00, 732.48it/s]\n"
     ]
    },
    {
     "name": "stdout",
     "output_type": "stream",
     "text": [
      "59 : 2331.HK\n",
      "[*********************100%***********************]  1 of 1 completed\n"
     ]
    },
    {
     "name": "stderr",
     "output_type": "stream",
     "text": [
      "100%|██████████| 133/133 [00:00<00:00, 686.29it/s]\n"
     ]
    },
    {
     "name": "stdout",
     "output_type": "stream",
     "text": [
      "60 : 2382.HK\n",
      "[*********************100%***********************]  1 of 1 completed\n"
     ]
    },
    {
     "name": "stderr",
     "output_type": "stream",
     "text": [
      "100%|██████████| 133/133 [00:00<00:00, 629.40it/s]\n"
     ]
    },
    {
     "name": "stdout",
     "output_type": "stream",
     "text": [
      "61 : 2388.HK\n",
      "[*********************100%***********************]  1 of 1 completed\n"
     ]
    },
    {
     "name": "stderr",
     "output_type": "stream",
     "text": [
      "100%|██████████| 133/133 [00:00<00:00, 613.21it/s]\n"
     ]
    },
    {
     "name": "stdout",
     "output_type": "stream",
     "text": [
      "62 : 2628.HK\n",
      "[*********************100%***********************]  1 of 1 completed\n"
     ]
    },
    {
     "name": "stderr",
     "output_type": "stream",
     "text": [
      "100%|██████████| 133/133 [00:00<00:00, 690.64it/s]\n"
     ]
    },
    {
     "name": "stdout",
     "output_type": "stream",
     "text": [
      "63 : 2688.HK\n",
      "[*********************100%***********************]  1 of 1 completed\n"
     ]
    },
    {
     "name": "stderr",
     "output_type": "stream",
     "text": [
      "100%|██████████| 50/50 [00:00<00:00, 618.14it/s]\n"
     ]
    },
    {
     "name": "stdout",
     "output_type": "stream",
     "text": [
      "64 : 3690.HK\n",
      "[*********************100%***********************]  1 of 1 completed\n"
     ]
    },
    {
     "name": "stderr",
     "output_type": "stream",
     "text": [
      "100%|██████████| 41/41 [00:00<00:00, 587.59it/s]\n"
     ]
    },
    {
     "name": "stdout",
     "output_type": "stream",
     "text": [
      "65 : 3692.HK\n",
      "[*********************100%***********************]  1 of 1 completed\n"
     ]
    },
    {
     "name": "stderr",
     "output_type": "stream",
     "text": [
      "100%|██████████| 133/133 [00:00<00:00, 704.35it/s]\n"
     ]
    },
    {
     "name": "stdout",
     "output_type": "stream",
     "text": [
      "66 : 3968.HK\n",
      "[*********************100%***********************]  1 of 1 completed\n"
     ]
    },
    {
     "name": "stderr",
     "output_type": "stream",
     "text": [
      "100%|██████████| 133/133 [00:00<00:00, 584.12it/s]\n"
     ]
    },
    {
     "name": "stdout",
     "output_type": "stream",
     "text": [
      "67 : 3988.HK\n",
      "[*********************100%***********************]  1 of 1 completed\n"
     ]
    },
    {
     "name": "stderr",
     "output_type": "stream",
     "text": [
      "100%|██████████| 53/53 [00:00<00:00, 642.00it/s]\n"
     ]
    },
    {
     "name": "stdout",
     "output_type": "stream",
     "text": [
      "68 : 6098.HK\n",
      "[*********************100%***********************]  1 of 1 completed\n"
     ]
    },
    {
     "name": "stderr",
     "output_type": "stream",
     "text": [
      "100%|██████████| 22/22 [00:00<00:00, 561.45it/s]"
     ]
    },
    {
     "name": "stdout",
     "output_type": "stream",
     "text": [
      "69 : 6690.HK\n"
     ]
    },
    {
     "name": "stderr",
     "output_type": "stream",
     "text": [
      "\n"
     ]
    },
    {
     "name": "stdout",
     "output_type": "stream",
     "text": [
      "[*********************100%***********************]  1 of 1 completed\n"
     ]
    },
    {
     "name": "stderr",
     "output_type": "stream",
     "text": [
      "100%|██████████| 50/50 [00:00<00:00, 601.44it/s]\n"
     ]
    },
    {
     "name": "stdout",
     "output_type": "stream",
     "text": [
      "70 : 6862.HK\n",
      "[*********************100%***********************]  1 of 1 completed\n"
     ]
    },
    {
     "name": "stderr",
     "output_type": "stream",
     "text": [
      "100%|██████████| 28/28 [00:00<00:00, 566.27it/s]"
     ]
    },
    {
     "name": "stdout",
     "output_type": "stream",
     "text": [
      "71 : 9618.HK\n"
     ]
    },
    {
     "name": "stderr",
     "output_type": "stream",
     "text": [
      "\n"
     ]
    },
    {
     "name": "stdout",
     "output_type": "stream",
     "text": [
      "[*********************100%***********************]  1 of 1 completed\n"
     ]
    },
    {
     "name": "stderr",
     "output_type": "stream",
     "text": [
      "100%|██████████| 26/26 [00:00<00:00, 592.86it/s]\n"
     ]
    },
    {
     "name": "stdout",
     "output_type": "stream",
     "text": [
      "72 : 9633.HK\n",
      "[*********************100%***********************]  1 of 1 completed\n"
     ]
    },
    {
     "name": "stderr",
     "output_type": "stream",
     "text": [
      "100%|██████████| 19/19 [00:00<00:00, 576.91it/s]"
     ]
    },
    {
     "name": "stdout",
     "output_type": "stream",
     "text": [
      "73 : 9888.HK\n",
      "[*********************100%***********************]  1 of 1 completed"
     ]
    },
    {
     "name": "stderr",
     "output_type": "stream",
     "text": [
      "\n"
     ]
    },
    {
     "name": "stdout",
     "output_type": "stream",
     "text": [
      "\n"
     ]
    },
    {
     "name": "stderr",
     "output_type": "stream",
     "text": [
      "100%|██████████| 35/35 [00:00<00:00, 593.76it/s]\n"
     ]
    },
    {
     "name": "stdout",
     "output_type": "stream",
     "text": [
      "74 : 9988.HK\n",
      "[*********************100%***********************]  1 of 1 completed\n"
     ]
    },
    {
     "name": "stderr",
     "output_type": "stream",
     "text": [
      "100%|██████████| 29/29 [00:00<00:00, 661.20it/s]"
     ]
    },
    {
     "name": "stdout",
     "output_type": "stream",
     "text": [
      "75 : 9999.HK\n",
      "test loss : tensor(0.6866, device='cuda:0')\n"
     ]
    },
    {
     "name": "stderr",
     "output_type": "stream",
     "text": [
      "\n"
     ]
    }
   ],
   "source": [
    "test_pred = []\n",
    "test_true = []\n",
    "test_loss = 0\n",
    "count = 0\n",
    "for i in stock_list:\n",
    "  teststock = data.get_data_yahoo(tickers=i, start=startdate, end=enddate)\n",
    "  testdf = pd.DataFrame(columns = ['Open','High','Low','Close','MA','Volume'])\n",
    "  testdf['Open']=teststock[\"Open\"]\n",
    "  testdf['High']=teststock['High']\n",
    "  testdf['Low'] =teststock['Low']\n",
    "  testdf['Close']=teststock['Close']\n",
    "  testdf['Volume']=teststock['Volume']\n",
    "  for j in range(len(testdf)):\n",
    "      if j >= day-1:\n",
    "          testdf['MA'].iloc[j] = sum(teststock['Close'].iloc[j-day+1:j+1])/day\n",
    "  testdf = testdf.dropna(axis=0, how='any')\n",
    " \n",
    "  testdata_list = []\n",
    "  testlabel_list = []\n",
    "  dataindex_list = []\n",
    "  for dataindex in true_price.index.to_list():\n",
    "    if dataindex in testdf.index.to_list():\n",
    "      true_price[i][dataindex] = testdf['Close'][dataindex]\n",
    "  for dataindex in pred_prob.index.to_list():\n",
    "\n",
    "    if dataindex in testdf.index.to_list():\n",
    "      row_index = testdf.index.to_list().index(dataindex)\n",
    "      if row_index+day<len(testdf) and row_index>=(day-1):\n",
    "        pixel = get_image_with_price(np.array(testdf.iloc[row_index-day+1:row_index+1]))\n",
    "        pixel = np.array(pixel)\n",
    "        testdata_list.append(pixel)\n",
    "        \n",
    "        if testdf['Close'].iloc[row_index]<testdf['Close'].iloc[row_index+day]:\n",
    "                # label [1,0] represents that stock price rises in 20 days\n",
    "          testlabel_list.append([1,0])\n",
    "        else:\n",
    "                # label [0,1] represents that stock price drops in 20 days\n",
    "          testlabel_list.append([0,1])\n",
    "        \n",
    "        dataindex_list.append(dataindex)\n",
    "\n",
    "  testdata_list = np.array(testdata_list)\n",
    "  testlabel_list = np.array(testlabel_list)\n",
    "  \n",
    "  test_dataset = MyDataset(testdata_list, testlabel_list)\n",
    " \n",
    "  test_dataloader = DataLoader(test_dataset, batch_size=1, shuffle=False, pin_memory=False)\n",
    "  n = 0\n",
    "\n",
    "  with torch.no_grad():\n",
    "    with tqdm(test_dataloader) as t:\n",
    "              for batch, (X, y) in enumerate(t):\n",
    "                  X = X.to(device)\n",
    "                  y = y.to(device)\n",
    "                  #print(batch,X)\n",
    "                  y_pred = new_net(X)\n",
    "                  #print(y_pred)\n",
    "                  test_pred.append(y_pred)\n",
    "                  test_true.append(y)\n",
    "                  test_loss += loss_fn(y_pred,y)*len(y)\n",
    "                  #print(n,y_pred)\n",
    "                  pred = torch.nn.functional.softmax(y_pred)\n",
    "                  #print(pred)\n",
    "                  pred_prob[i][dataindex_list[n]]=np.float(pred[0][0])\n",
    "                  n += 1\n",
    "  print(count,':',i)\n",
    "  count += 1\n",
    "\n",
    "print('test loss :',test_loss/len(test_true))\n",
    "      \n"
   ]
  },
  {
   "cell_type": "code",
   "execution_count": 19,
   "metadata": {},
   "outputs": [],
   "source": [
    "true_price.to_csv('true_price_20D_V2_HSI_1.csv')\n",
    "pred_prob.to_csv('pred_prob_20D_V2_HSI_1.csv')"
   ]
  },
  {
   "cell_type": "code",
   "execution_count": 46,
   "metadata": {},
   "outputs": [],
   "source": [
    "true_price = pd.read_csv('true_price_20D_V2_HSI_1.csv')\n",
    "pred_prob = pd.read_csv('pred_prob_20D_V2_HSI_1.csv')\n",
    "\n",
    "pred_prob['Date'] = pd.to_datetime(pred_prob['Date'])\n",
    "pred_prob.set_index('Date', inplace=True)\n",
    "true_price['Date'] = pd.to_datetime(true_price['Date'])\n",
    "true_price.set_index('Date', inplace=True)"
   ]
  },
  {
   "cell_type": "code",
   "execution_count": 47,
   "metadata": {},
   "outputs": [
    {
     "data": {
      "text/html": [
       "<div>\n",
       "<style scoped>\n",
       "    .dataframe tbody tr th:only-of-type {\n",
       "        vertical-align: middle;\n",
       "    }\n",
       "\n",
       "    .dataframe tbody tr th {\n",
       "        vertical-align: top;\n",
       "    }\n",
       "\n",
       "    .dataframe thead th {\n",
       "        text-align: right;\n",
       "    }\n",
       "</style>\n",
       "<table border=\"1\" class=\"dataframe\">\n",
       "  <thead>\n",
       "    <tr style=\"text-align: right;\">\n",
       "      <th></th>\n",
       "      <th>0001.HK</th>\n",
       "      <th>0002.HK</th>\n",
       "      <th>0003.HK</th>\n",
       "      <th>0005.HK</th>\n",
       "      <th>0006.HK</th>\n",
       "      <th>0011.HK</th>\n",
       "      <th>0012.HK</th>\n",
       "      <th>0016.HK</th>\n",
       "      <th>0017.HK</th>\n",
       "      <th>0027.HK</th>\n",
       "      <th>...</th>\n",
       "      <th>3968.HK</th>\n",
       "      <th>3988.HK</th>\n",
       "      <th>6098.HK</th>\n",
       "      <th>6690.HK</th>\n",
       "      <th>6862.HK</th>\n",
       "      <th>9618.HK</th>\n",
       "      <th>9633.HK</th>\n",
       "      <th>9888.HK</th>\n",
       "      <th>9988.HK</th>\n",
       "      <th>9999.HK</th>\n",
       "    </tr>\n",
       "    <tr>\n",
       "      <th>Date</th>\n",
       "      <th></th>\n",
       "      <th></th>\n",
       "      <th></th>\n",
       "      <th></th>\n",
       "      <th></th>\n",
       "      <th></th>\n",
       "      <th></th>\n",
       "      <th></th>\n",
       "      <th></th>\n",
       "      <th></th>\n",
       "      <th></th>\n",
       "      <th></th>\n",
       "      <th></th>\n",
       "      <th></th>\n",
       "      <th></th>\n",
       "      <th></th>\n",
       "      <th></th>\n",
       "      <th></th>\n",
       "      <th></th>\n",
       "      <th></th>\n",
       "      <th></th>\n",
       "    </tr>\n",
       "  </thead>\n",
       "  <tbody>\n",
       "    <tr>\n",
       "      <th>2012-03-01</th>\n",
       "      <td>0.528763</td>\n",
       "      <td>0.430878</td>\n",
       "      <td>0.472995</td>\n",
       "      <td>0.531185</td>\n",
       "      <td>0.476136</td>\n",
       "      <td>0.508925</td>\n",
       "      <td>0.548752</td>\n",
       "      <td>0.499936</td>\n",
       "      <td>0.529112</td>\n",
       "      <td>0.548802</td>\n",
       "      <td>...</td>\n",
       "      <td>0.497993</td>\n",
       "      <td>0.466946</td>\n",
       "      <td>NaN</td>\n",
       "      <td>NaN</td>\n",
       "      <td>NaN</td>\n",
       "      <td>NaN</td>\n",
       "      <td>NaN</td>\n",
       "      <td>NaN</td>\n",
       "      <td>NaN</td>\n",
       "      <td>NaN</td>\n",
       "    </tr>\n",
       "    <tr>\n",
       "      <th>2012-03-30</th>\n",
       "      <td>0.453759</td>\n",
       "      <td>0.550988</td>\n",
       "      <td>0.496098</td>\n",
       "      <td>0.512517</td>\n",
       "      <td>0.503235</td>\n",
       "      <td>0.485956</td>\n",
       "      <td>0.444243</td>\n",
       "      <td>0.520408</td>\n",
       "      <td>0.483326</td>\n",
       "      <td>0.493488</td>\n",
       "      <td>...</td>\n",
       "      <td>0.494157</td>\n",
       "      <td>0.558591</td>\n",
       "      <td>NaN</td>\n",
       "      <td>NaN</td>\n",
       "      <td>NaN</td>\n",
       "      <td>NaN</td>\n",
       "      <td>NaN</td>\n",
       "      <td>NaN</td>\n",
       "      <td>NaN</td>\n",
       "      <td>NaN</td>\n",
       "    </tr>\n",
       "    <tr>\n",
       "      <th>2012-05-03</th>\n",
       "      <td>0.565774</td>\n",
       "      <td>0.532072</td>\n",
       "      <td>0.503462</td>\n",
       "      <td>0.508446</td>\n",
       "      <td>0.516091</td>\n",
       "      <td>0.569454</td>\n",
       "      <td>0.483511</td>\n",
       "      <td>0.467131</td>\n",
       "      <td>0.521617</td>\n",
       "      <td>0.456074</td>\n",
       "      <td>...</td>\n",
       "      <td>0.487065</td>\n",
       "      <td>0.438364</td>\n",
       "      <td>NaN</td>\n",
       "      <td>NaN</td>\n",
       "      <td>NaN</td>\n",
       "      <td>NaN</td>\n",
       "      <td>NaN</td>\n",
       "      <td>NaN</td>\n",
       "      <td>NaN</td>\n",
       "      <td>NaN</td>\n",
       "    </tr>\n",
       "    <tr>\n",
       "      <th>2012-05-31</th>\n",
       "      <td>0.539825</td>\n",
       "      <td>0.484041</td>\n",
       "      <td>0.522614</td>\n",
       "      <td>0.558542</td>\n",
       "      <td>0.609009</td>\n",
       "      <td>0.500182</td>\n",
       "      <td>0.549838</td>\n",
       "      <td>0.541065</td>\n",
       "      <td>0.533338</td>\n",
       "      <td>0.526601</td>\n",
       "      <td>...</td>\n",
       "      <td>0.572802</td>\n",
       "      <td>0.497834</td>\n",
       "      <td>NaN</td>\n",
       "      <td>NaN</td>\n",
       "      <td>NaN</td>\n",
       "      <td>NaN</td>\n",
       "      <td>NaN</td>\n",
       "      <td>NaN</td>\n",
       "      <td>NaN</td>\n",
       "      <td>NaN</td>\n",
       "    </tr>\n",
       "    <tr>\n",
       "      <th>2012-06-28</th>\n",
       "      <td>0.583978</td>\n",
       "      <td>0.515611</td>\n",
       "      <td>0.554610</td>\n",
       "      <td>0.590145</td>\n",
       "      <td>0.575517</td>\n",
       "      <td>0.519853</td>\n",
       "      <td>0.541947</td>\n",
       "      <td>0.547636</td>\n",
       "      <td>0.554500</td>\n",
       "      <td>0.548596</td>\n",
       "      <td>...</td>\n",
       "      <td>0.458222</td>\n",
       "      <td>0.517672</td>\n",
       "      <td>NaN</td>\n",
       "      <td>NaN</td>\n",
       "      <td>NaN</td>\n",
       "      <td>NaN</td>\n",
       "      <td>NaN</td>\n",
       "      <td>NaN</td>\n",
       "      <td>NaN</td>\n",
       "      <td>NaN</td>\n",
       "    </tr>\n",
       "    <tr>\n",
       "      <th>...</th>\n",
       "      <td>...</td>\n",
       "      <td>...</td>\n",
       "      <td>...</td>\n",
       "      <td>...</td>\n",
       "      <td>...</td>\n",
       "      <td>...</td>\n",
       "      <td>...</td>\n",
       "      <td>...</td>\n",
       "      <td>...</td>\n",
       "      <td>...</td>\n",
       "      <td>...</td>\n",
       "      <td>...</td>\n",
       "      <td>...</td>\n",
       "      <td>...</td>\n",
       "      <td>...</td>\n",
       "      <td>...</td>\n",
       "      <td>...</td>\n",
       "      <td>...</td>\n",
       "      <td>...</td>\n",
       "      <td>...</td>\n",
       "      <td>...</td>\n",
       "    </tr>\n",
       "    <tr>\n",
       "      <th>2022-07-21</th>\n",
       "      <td>0.524726</td>\n",
       "      <td>0.427545</td>\n",
       "      <td>0.496396</td>\n",
       "      <td>0.476987</td>\n",
       "      <td>0.522834</td>\n",
       "      <td>0.500706</td>\n",
       "      <td>0.532324</td>\n",
       "      <td>0.544108</td>\n",
       "      <td>0.490856</td>\n",
       "      <td>0.552218</td>\n",
       "      <td>...</td>\n",
       "      <td>0.562678</td>\n",
       "      <td>0.578940</td>\n",
       "      <td>0.543572</td>\n",
       "      <td>0.540045</td>\n",
       "      <td>0.477307</td>\n",
       "      <td>0.561556</td>\n",
       "      <td>0.497651</td>\n",
       "      <td>0.492517</td>\n",
       "      <td>0.526483</td>\n",
       "      <td>0.550632</td>\n",
       "    </tr>\n",
       "    <tr>\n",
       "      <th>2022-08-18</th>\n",
       "      <td>0.469832</td>\n",
       "      <td>0.528989</td>\n",
       "      <td>0.517806</td>\n",
       "      <td>0.506226</td>\n",
       "      <td>0.525702</td>\n",
       "      <td>0.538071</td>\n",
       "      <td>0.562199</td>\n",
       "      <td>0.512877</td>\n",
       "      <td>0.586575</td>\n",
       "      <td>0.473847</td>\n",
       "      <td>...</td>\n",
       "      <td>0.487866</td>\n",
       "      <td>0.539582</td>\n",
       "      <td>0.479815</td>\n",
       "      <td>0.476451</td>\n",
       "      <td>0.525203</td>\n",
       "      <td>0.467768</td>\n",
       "      <td>0.562480</td>\n",
       "      <td>0.518633</td>\n",
       "      <td>0.497427</td>\n",
       "      <td>0.502269</td>\n",
       "    </tr>\n",
       "    <tr>\n",
       "      <th>2022-09-16</th>\n",
       "      <td>0.518520</td>\n",
       "      <td>0.518662</td>\n",
       "      <td>0.560628</td>\n",
       "      <td>0.569060</td>\n",
       "      <td>0.632214</td>\n",
       "      <td>0.497453</td>\n",
       "      <td>0.544518</td>\n",
       "      <td>0.576928</td>\n",
       "      <td>0.511480</td>\n",
       "      <td>0.550422</td>\n",
       "      <td>...</td>\n",
       "      <td>0.559995</td>\n",
       "      <td>0.546592</td>\n",
       "      <td>0.504163</td>\n",
       "      <td>0.578260</td>\n",
       "      <td>0.496898</td>\n",
       "      <td>0.523917</td>\n",
       "      <td>0.554423</td>\n",
       "      <td>0.557755</td>\n",
       "      <td>0.560483</td>\n",
       "      <td>0.463415</td>\n",
       "    </tr>\n",
       "    <tr>\n",
       "      <th>2022-10-17</th>\n",
       "      <td>0.541241</td>\n",
       "      <td>0.564490</td>\n",
       "      <td>0.522015</td>\n",
       "      <td>0.597073</td>\n",
       "      <td>0.558211</td>\n",
       "      <td>0.529877</td>\n",
       "      <td>0.560586</td>\n",
       "      <td>0.504733</td>\n",
       "      <td>0.541871</td>\n",
       "      <td>0.512186</td>\n",
       "      <td>...</td>\n",
       "      <td>0.505453</td>\n",
       "      <td>0.565447</td>\n",
       "      <td>0.533905</td>\n",
       "      <td>0.499237</td>\n",
       "      <td>0.510545</td>\n",
       "      <td>0.540616</td>\n",
       "      <td>0.502436</td>\n",
       "      <td>0.523915</td>\n",
       "      <td>0.544709</td>\n",
       "      <td>0.527266</td>\n",
       "    </tr>\n",
       "    <tr>\n",
       "      <th>2022-11-14</th>\n",
       "      <td>0.578596</td>\n",
       "      <td>0.569654</td>\n",
       "      <td>0.560787</td>\n",
       "      <td>0.539892</td>\n",
       "      <td>0.555534</td>\n",
       "      <td>0.561176</td>\n",
       "      <td>0.526905</td>\n",
       "      <td>0.525318</td>\n",
       "      <td>0.549389</td>\n",
       "      <td>0.545773</td>\n",
       "      <td>...</td>\n",
       "      <td>0.573704</td>\n",
       "      <td>0.470080</td>\n",
       "      <td>0.456162</td>\n",
       "      <td>0.572733</td>\n",
       "      <td>0.568538</td>\n",
       "      <td>0.559150</td>\n",
       "      <td>0.561644</td>\n",
       "      <td>0.518915</td>\n",
       "      <td>0.553336</td>\n",
       "      <td>0.539547</td>\n",
       "    </tr>\n",
       "  </tbody>\n",
       "</table>\n",
       "<p>133 rows × 76 columns</p>\n",
       "</div>"
      ],
      "text/plain": [
       "             0001.HK   0002.HK   0003.HK   0005.HK   0006.HK   0011.HK  \\\n",
       "Date                                                                     \n",
       "2012-03-01  0.528763  0.430878  0.472995  0.531185  0.476136  0.508925   \n",
       "2012-03-30  0.453759  0.550988  0.496098  0.512517  0.503235  0.485956   \n",
       "2012-05-03  0.565774  0.532072  0.503462  0.508446  0.516091  0.569454   \n",
       "2012-05-31  0.539825  0.484041  0.522614  0.558542  0.609009  0.500182   \n",
       "2012-06-28  0.583978  0.515611  0.554610  0.590145  0.575517  0.519853   \n",
       "...              ...       ...       ...       ...       ...       ...   \n",
       "2022-07-21  0.524726  0.427545  0.496396  0.476987  0.522834  0.500706   \n",
       "2022-08-18  0.469832  0.528989  0.517806  0.506226  0.525702  0.538071   \n",
       "2022-09-16  0.518520  0.518662  0.560628  0.569060  0.632214  0.497453   \n",
       "2022-10-17  0.541241  0.564490  0.522015  0.597073  0.558211  0.529877   \n",
       "2022-11-14  0.578596  0.569654  0.560787  0.539892  0.555534  0.561176   \n",
       "\n",
       "             0012.HK   0016.HK   0017.HK   0027.HK  ...   3968.HK   3988.HK  \\\n",
       "Date                                                ...                       \n",
       "2012-03-01  0.548752  0.499936  0.529112  0.548802  ...  0.497993  0.466946   \n",
       "2012-03-30  0.444243  0.520408  0.483326  0.493488  ...  0.494157  0.558591   \n",
       "2012-05-03  0.483511  0.467131  0.521617  0.456074  ...  0.487065  0.438364   \n",
       "2012-05-31  0.549838  0.541065  0.533338  0.526601  ...  0.572802  0.497834   \n",
       "2012-06-28  0.541947  0.547636  0.554500  0.548596  ...  0.458222  0.517672   \n",
       "...              ...       ...       ...       ...  ...       ...       ...   \n",
       "2022-07-21  0.532324  0.544108  0.490856  0.552218  ...  0.562678  0.578940   \n",
       "2022-08-18  0.562199  0.512877  0.586575  0.473847  ...  0.487866  0.539582   \n",
       "2022-09-16  0.544518  0.576928  0.511480  0.550422  ...  0.559995  0.546592   \n",
       "2022-10-17  0.560586  0.504733  0.541871  0.512186  ...  0.505453  0.565447   \n",
       "2022-11-14  0.526905  0.525318  0.549389  0.545773  ...  0.573704  0.470080   \n",
       "\n",
       "             6098.HK   6690.HK   6862.HK   9618.HK   9633.HK   9888.HK  \\\n",
       "Date                                                                     \n",
       "2012-03-01       NaN       NaN       NaN       NaN       NaN       NaN   \n",
       "2012-03-30       NaN       NaN       NaN       NaN       NaN       NaN   \n",
       "2012-05-03       NaN       NaN       NaN       NaN       NaN       NaN   \n",
       "2012-05-31       NaN       NaN       NaN       NaN       NaN       NaN   \n",
       "2012-06-28       NaN       NaN       NaN       NaN       NaN       NaN   \n",
       "...              ...       ...       ...       ...       ...       ...   \n",
       "2022-07-21  0.543572  0.540045  0.477307  0.561556  0.497651  0.492517   \n",
       "2022-08-18  0.479815  0.476451  0.525203  0.467768  0.562480  0.518633   \n",
       "2022-09-16  0.504163  0.578260  0.496898  0.523917  0.554423  0.557755   \n",
       "2022-10-17  0.533905  0.499237  0.510545  0.540616  0.502436  0.523915   \n",
       "2022-11-14  0.456162  0.572733  0.568538  0.559150  0.561644  0.518915   \n",
       "\n",
       "             9988.HK   9999.HK  \n",
       "Date                            \n",
       "2012-03-01       NaN       NaN  \n",
       "2012-03-30       NaN       NaN  \n",
       "2012-05-03       NaN       NaN  \n",
       "2012-05-31       NaN       NaN  \n",
       "2012-06-28       NaN       NaN  \n",
       "...              ...       ...  \n",
       "2022-07-21  0.526483  0.550632  \n",
       "2022-08-18  0.497427  0.502269  \n",
       "2022-09-16  0.560483  0.463415  \n",
       "2022-10-17  0.544709  0.527266  \n",
       "2022-11-14  0.553336  0.539547  \n",
       "\n",
       "[133 rows x 76 columns]"
      ]
     },
     "execution_count": 47,
     "metadata": {},
     "output_type": "execute_result"
    }
   ],
   "source": [
    "pred_prob"
   ]
  },
  {
   "cell_type": "code",
   "execution_count": 58,
   "metadata": {
    "colab": {
     "base_uri": "https://localhost:8080/"
    },
    "id": "3GShR11qKQTA",
    "outputId": "ab13a4fd-492c-4f6f-f04a-a8bc356bfc6e"
   },
   "outputs": [
    {
     "name": "stdout",
     "output_type": "stream",
     "text": [
      "long: 15\n",
      "short: 7\n",
      "[*********************100%***********************]  1 of 1 completed\n"
     ]
    }
   ],
   "source": [
    "true_price = true_price.fillna(method=\"ffill\")\n",
    "long = int(0.2 * len(stock_list))\n",
    "short = int(0.1* len(stock_list))\n",
    "print( 'long:',long)\n",
    "print('short:',short)\n",
    "ret = 1\n",
    "ret_list = [1]\n",
    "tradecost = 3/1000\n",
    "Index = data.get_data_yahoo(tickers=index_ticker, start=startdate, end=enddate)\n",
    "Index_list = [1]\n",
    "Index_ret = 1\n",
    "\n",
    "for i in range(len(pred_prob.index.to_list())):\n",
    "  \n",
    "  a = pred_prob.iloc[i]\n",
    "  a = a.dropna(how='any')\n",
    "  a = a.sort_values(ascending=False)\n",
    "  long_list = a.index.to_list()[:long]\n",
    "  short_list = a.index.to_list()[len(a)-short:]\n",
    "  current_ret = 0\n",
    "  for index in long_list:\n",
    "    current_ret += ret/(long+short)*(true_price[index].iloc[i+1]/true_price[index].iloc[i]-tradecost)\n",
    "\n",
    "  for index in short_list:\n",
    "    current_ret += ret/(long+short)*(true_price[index].iloc[i]/true_price[index].iloc[i+1]-tradecost)\n",
    "\n",
    "  Index_ret = Index_ret*Index['Close'][true_price.index.to_list()[i+1]]/Index['Close'][true_price.index.to_list()[i]]\n",
    "  Index_list.append(Index_ret)\n",
    "  ret = current_ret\n",
    "  ret_list.append(ret)"
   ]
  },
  {
   "cell_type": "code",
   "execution_count": 35,
   "metadata": {},
   "outputs": [],
   "source": [
    "def sharpe_ratio(ret, period, RFrate=0.035 ):\n",
    "    tmp = [ret[i+1]/ret[i]-1 for i in range(len(ret)-1)]\n",
    "    #print(tmp)\n",
    "    tmp = [x*252/period-RFrate for x in tmp]\n",
    "    #print(tmp)\n",
    "    return np.mean(tmp)/np.std(tmp)\n",
    "    \n",
    "def info_ratio(ret, base, period):\n",
    "    r = [ret[i+1]/ret[i]-1 for i in range(len(ret)-1)]\n",
    "    b = [base[i+1]/base[i]-1 for i in range(len(base)-1)]\n",
    "    tmp = [(r[i]-b[i])*252/period for i in range(len(r))]\n",
    "    return np.mean(tmp)/np.std(tmp)"
   ]
  },
  {
   "cell_type": "code",
   "execution_count": 36,
   "metadata": {},
   "outputs": [
    {
     "name": "stdout",
     "output_type": "stream",
     "text": [
      "[*********************100%***********************]  1 of 1 completed\n"
     ]
    },
    {
     "data": {
      "text/plain": [
       "<AxesSubplot:xlabel='Date'>"
      ]
     },
     "execution_count": 36,
     "metadata": {},
     "output_type": "execute_result"
    },
    {
     "data": {
      "image/png": "[encoded data removed]",
      "text/plain": [
       "<Figure size 432x288 with 1 Axes>"
      ]
     },
     "metadata": {
      "needs_background": "light"
     },
     "output_type": "display_data"
    }
   ],
   "source": [
    "indexdata = data.get_data_yahoo(tickers=index_ticker, start=startdate, end=enddate)\n",
    "indexdata['Close']=indexdata['Close']/indexdata['Close'].iloc[0]\n",
    "indexdata['Close'].plot()"
   ]
  },
  {
   "cell_type": "code",
   "execution_count": 59,
   "metadata": {
    "colab": {
     "base_uri": "https://localhost:8080/",
     "height": 1000
    },
    "id": "fmnslmrUX9DR",
    "outputId": "6771d395-d54a-46f6-fb1a-314cba473a6f"
   },
   "outputs": [
    {
     "data": {
      "image/png": "[encoded data removed]",
      "text/plain": [
       "<Figure size 1152x576 with 1 Axes>"
      ]
     },
     "metadata": {
      "needs_background": "light"
     },
     "output_type": "display_data"
    },
    {
     "name": "stdout",
     "output_type": "stream",
     "text": [
      "Test set startdate: 2012-03-01 00:00:00\n",
      "Test set enddate: 2019-08-20 00:00:00\n",
      "Annualized return: 0.354166078448186\n",
      "The sharpe ratio: 0.33214841239865917\n",
      "The information ratio: 0.21756797826839702\n"
     ]
    },
    {
     "data": {
      "image/png": "[encoded data removed]",
      "text/plain": [
       "<Figure size 1152x576 with 1 Axes>"
      ]
     },
     "metadata": {
      "needs_background": "light"
     },
     "output_type": "display_data"
    },
    {
     "name": "stdout",
     "output_type": "stream",
     "text": [
      "Test set startdate: 2019-09-17 00:00:00\n",
      "Test set enddate: 2022-11-14 00:00:00\n",
      "Annualized return: 0.4066775377492372\n",
      "The sharpe ratio: 0.1257922856303812\n",
      "The information ratio: 0.2951929561146631\n"
     ]
    },
    {
     "data": {
      "image/png": "[encoded data removed]",
      "text/plain": [
       "<Figure size 1152x576 with 1 Axes>"
      ]
     },
     "metadata": {
      "needs_background": "light"
     },
     "output_type": "display_data"
    },
    {
     "name": "stdout",
     "output_type": "stream",
     "text": [
      "Test set startdate: 2012-03-01 00:00:00\n",
      "Test set enddate: 2022-11-14 00:00:00\n",
      "Annualized return: 0.31551451992416896\n",
      "The sharpe ratio: 0.2507842700510052\n",
      "The information ratio: 0.23574595383434702\n"
     ]
    }
   ],
   "source": [
    "split = int(len(pred_prob)*train_val_ratio)\n",
    "plt.figure(figsize=(16,8))\n",
    "plt.plot(true_price.index.to_list()[:split],Index_list[:split],label='Heng Seng Index Return')\n",
    "plt.plot(true_price.index.to_list()[:split],ret_list[:split],label='Portfolio Return')\n",
    "plt.title('Return in train period')\n",
    "plt.legend()\n",
    "plt.xlabel('Datetime')\n",
    "plt.ylabel('Cumulative return')\n",
    "plt.show()\n",
    "t = pd.to_datetime(pred_prob.index.to_list()[:split][-1])-pd.to_datetime(pred_prob.index.to_list()[:split][0])\n",
    "t = t.days\n",
    "print('Test set startdate:',pred_prob.index.to_list()[:split][0])\n",
    "print('Test set enddate:',pred_prob.index.to_list()[:split][-1])\n",
    "print('Annualized return:',(ret_list[:split][-1]/ret_list[:split][0])/t*365)\n",
    "print('The sharpe ratio:',sharpe_ratio(ret_list[:split],20))\n",
    "print('The information ratio:',info_ratio(ret_list[:split],Index_list[:split],20))\n",
    "\n",
    "\n",
    "\n",
    "\n",
    "plt.figure(figsize=(16,8))\n",
    "Index_test = Index_list[split:]-Index_list[split]\n",
    "ret_test = ret_list[split:]-ret_list[split]\n",
    "plt.plot(true_price.index.to_list()[split:],Index_test,label='Heng Seng Index Return')\n",
    "plt.plot(true_price.index.to_list()[split:],ret_test,label='Portfolio Return')\n",
    "plt.legend()\n",
    "plt.xlabel('Datetime')\n",
    "plt.ylabel('Cumulative return')\n",
    "plt.title('Return in test period')\n",
    "plt.show()\n",
    "\n",
    "print('Test set startdate:',pred_prob.index.to_list()[split:][0])\n",
    "print('Test set enddate:',pred_prob.index.to_list()[split:][-1])\n",
    "t = pd.to_datetime(pred_prob.index.to_list()[split:][-1])-pd.to_datetime(pred_prob.index.to_list()[split:][0])\n",
    "t = t.days\n",
    "print('Annualized return:',(ret_list[split:][-1]/ret_list[split:][0])/t*365)\n",
    "print('The sharpe ratio:',sharpe_ratio(ret_list[split:],20))\n",
    "print('The information ratio:',info_ratio(ret_list[split:],Index_list[split:],20))\n",
    "\n",
    "\n",
    "\n",
    "plt.figure(figsize=(16,8))\n",
    "plt.plot(true_price.index.to_list(),Index_list,label='Heng Seng Index Return')\n",
    "plt.plot(true_price.index.to_list(),ret_list,label='Portfolio Return')\n",
    "plt.legend()\n",
    "plt.xlabel('Datetime')\n",
    "plt.ylabel('Cumulative return')\n",
    "plt.title('Return in the entire period')\n",
    "plt.show()\n",
    "t = pd.to_datetime(pred_prob.index.to_list()[-1])-pd.to_datetime(pred_prob.index.to_list()[0])\n",
    "t = t.days\n",
    "print('Test set startdate:',pred_prob.index.to_list()[0])\n",
    "print('Test set enddate:',pred_prob.index.to_list()[-1])\n",
    "print('Annualized return:',(ret_list[-1]/ret_list[0])/t*365)\n",
    "print('The sharpe ratio:',sharpe_ratio(ret_list,20))\n",
    "print('The information ratio:',info_ratio(ret_list,Index_list,20))\n",
    "\n"
   ]
  },
  {
   "cell_type": "code",
   "execution_count": 165,
   "metadata": {},
   "outputs": [
    {
     "name": "stdout",
     "output_type": "stream",
     "text": [
      "[1 0] tensor([[0.5522, 0.4478]], device='cuda:0', grad_fn=<SoftmaxBackward0>)\n"
     ]
    }
   ],
   "source": [
    "from captum.attr import IntegratedGradients, GuidedGradCam\n",
    "k = 34214#99449#79843#7876\n",
    "x = torch.tensor(train_x[k].copy()).float()\n",
    "y = train_y[k]\n",
    "x = x.reshape(-1,1,64,60)\n",
    "x.requires_grad = True\n",
    "baseline = torch.zeros_like(x)\n",
    "print(y,new_net(x.to('cuda')))"
   ]
  },
  {
   "cell_type": "code",
   "execution_count": 166,
   "metadata": {},
   "outputs": [
    {
     "data": {
      "text/plain": [
       "<matplotlib.image.AxesImage at 0x14def4237bb0>"
      ]
     },
     "execution_count": 166,
     "metadata": {},
     "output_type": "execute_result"
    },
    {
     "data": {
      "image/png": "[encoded data removed]",
      "text/plain": [
       "<Figure size 432x288 with 1 Axes>"
      ]
     },
     "metadata": {
      "needs_background": "light"
     },
     "output_type": "display_data"
    }
   ],
   "source": [
    "plt.imshow(x[0,0].detach().cpu().numpy())"
   ]
  },
  {
   "cell_type": "code",
   "execution_count": 85,
   "metadata": {},
   "outputs": [],
   "source": [
    "cam_layer_1 = GuidedGradCam(new_net, new_net.layer1)\n",
    "attributions_layer_1 = cam_layer_1.attribute(x.cuda(), target=0)\n",
    "cam_layer_2 = GuidedGradCam(new_net, new_net.layer2)\n",
    "attributions_layer_2 = cam_layer_2.attribute(x.cuda(), target=0)\n",
    "cam_layer_3 = GuidedGradCam(new_net, new_net.layer3)\n",
    "attributions_layer_3 = cam_layer_3.attribute(x.cuda(), target=0)"
   ]
  },
  {
   "cell_type": "code",
   "execution_count": 86,
   "metadata": {},
   "outputs": [
    {
     "data": {
      "text/plain": [
       "<matplotlib.image.AxesImage at 0x14def4ca9dc0>"
      ]
     },
     "execution_count": 86,
     "metadata": {},
     "output_type": "execute_result"
    },
    {
     "data": {
      "image/png": "[encoded data removed]",
      "text/plain": [
       "<Figure size 432x288 with 1 Axes>"
      ]
     },
     "metadata": {
      "needs_background": "light"
     },
     "output_type": "display_data"
    }
   ],
   "source": [
    "plt.imshow(abs(attributions_layer_1.detach().cpu().numpy()[0,0]), vmax=1e-8)"
   ]
  },
  {
   "cell_type": "code",
   "execution_count": 87,
   "metadata": {},
   "outputs": [
    {
     "data": {
      "text/plain": [
       "<matplotlib.image.AxesImage at 0x14def4c04820>"
      ]
     },
     "execution_count": 87,
     "metadata": {},
     "output_type": "execute_result"
    },
    {
     "data": {
      "image/png": "[encoded data removed]",
      "text/plain": [
       "<Figure size 432x288 with 1 Axes>"
      ]
     },
     "metadata": {
      "needs_background": "light"
     },
     "output_type": "display_data"
    }
   ],
   "source": [
    "plt.imshow(abs(attributions_layer_2.detach().cpu().numpy()[0,0]), vmax=1e-7)"
   ]
  },
  {
   "cell_type": "code",
   "execution_count": 88,
   "metadata": {},
   "outputs": [
    {
     "data": {
      "text/plain": [
       "<matplotlib.image.AxesImage at 0x14def4be0640>"
      ]
     },
     "execution_count": 88,
     "metadata": {},
     "output_type": "execute_result"
    },
    {
     "data": {
      "image/png": "[encoded data removed]",
      "text/plain": [
       "<Figure size 432x288 with 1 Axes>"
      ]
     },
     "metadata": {
      "needs_background": "light"
     },
     "output_type": "display_data"
    }
   ],
   "source": [
    "plt.imshow(abs(attributions_layer_3.detach().cpu().numpy()[0,0]), vmax=1e-7)"
   ]
  },
  {
   "cell_type": "code",
   "execution_count": 167,
   "metadata": {},
   "outputs": [],
   "source": [
    "ig = IntegratedGradients(new_net)\n",
    "attributions, delta = ig.attribute(x.cuda(), baseline.cuda(), target=0, return_convergence_delta=True)"
   ]
  },
  {
   "cell_type": "code",
   "execution_count": 168,
   "metadata": {},
   "outputs": [
    {
     "data": {
      "text/plain": [
       "<matplotlib.image.AxesImage at 0x14def42138b0>"
      ]
     },
     "execution_count": 168,
     "metadata": {},
     "output_type": "execute_result"
    },
    {
     "data": {
      "image/png": "[encoded data removed]",
      "text/plain": [
       "<Figure size 432x288 with 1 Axes>"
      ]
     },
     "metadata": {
      "needs_background": "light"
     },
     "output_type": "display_data"
    }
   ],
   "source": [
    "plt.imshow(abs(attributions.detach().cpu().numpy()[0,0]),vmin=0,vmax=0.02)"
   ]
  },
  {
   "cell_type": "code",
   "execution_count": null,
   "metadata": {},
   "outputs": [],
   "source": []
  }
 ],
 "metadata": {
  "accelerator": "GPU",
  "colab": {
   "provenance": []
  },
  "gpuClass": "standard",
  "kernelspec": {
   "display_name": "Python 3",
   "language": "python",
   "name": "python3"
  },
  "language_info": {
   "codemirror_mode": {
    "name": "ipython",
    "version": 3
   },
   "file_extension": ".py",
   "mimetype": "text/x-python",
   "name": "python",
   "nbconvert_exporter": "python",
   "pygments_lexer": "ipython3",
   "version": "3.8.5"
  }
 },
 "nbformat": 4,
 "nbformat_minor": 4
}
